{
 "cells": [
  {
   "cell_type": "markdown",
   "id": "ab5ae40f",
   "metadata": {},
   "source": [
    "## Strings in Python"
   ]
  },
  {
   "cell_type": "code",
   "execution_count": 1,
   "id": "2f950b61",
   "metadata": {},
   "outputs": [
    {
     "name": "stdout",
     "output_type": "stream",
     "text": [
      "Hello, 'I am Sonali'\n"
     ]
    }
   ],
   "source": [
    "str1 = \"Hello, 'I am Sonali'\"\n",
    "print(str1)"
   ]
  },
  {
   "cell_type": "code",
   "execution_count": 2,
   "id": "2619079c",
   "metadata": {},
   "outputs": [
    {
     "name": "stdout",
     "output_type": "stream",
     "text": [
      "Hi, \"How are you doing?\"\n"
     ]
    }
   ],
   "source": [
    "str2 = 'Hi, \"How are you doing?\"'\n",
    "print(str2)"
   ]
  },
  {
   "cell_type": "code",
   "execution_count": 3,
   "id": "f7ad75a4",
   "metadata": {},
   "outputs": [
    {
     "name": "stdout",
     "output_type": "stream",
     "text": [
      "\n",
      "    Python is a 'simple' programming language.\n",
      "    It is a \"interpreter\".\n",
      "\n"
     ]
    }
   ],
   "source": [
    "text = '''\n",
    "    Python is a 'simple' programming language.\n",
    "    It is a \"interpreter\".\n",
    "'''\n",
    "print(text)"
   ]
  },
  {
   "cell_type": "code",
   "execution_count": 4,
   "id": "871ac554",
   "metadata": {},
   "outputs": [
    {
     "name": "stdout",
     "output_type": "stream",
     "text": [
      "Hello, SONALI RAJARAM\n"
     ]
    }
   ],
   "source": [
    "first_name = \"Sonali\"\n",
    "last_name = \"Rajaram\"\n",
    "print(f'Hello, {first_name.upper()} {last_name.upper()}')"
   ]
  },
  {
   "cell_type": "code",
   "execution_count": 16,
   "id": "f383fa66",
   "metadata": {},
   "outputs": [
    {
     "name": "stdout",
     "output_type": "stream",
     "text": [
      "Python\n"
     ]
    }
   ],
   "source": [
    "str3 = 'python'\n",
    "print(str3.title())"
   ]
  },
  {
   "cell_type": "code",
   "execution_count": 10,
   "id": "60fdda9f",
   "metadata": {},
   "outputs": [
    {
     "name": "stdout",
     "output_type": "stream",
     "text": [
      "python\n"
     ]
    }
   ],
   "source": [
    "str4 = '    python'\n",
    "print(str4.lstrip())"
   ]
  },
  {
   "cell_type": "code",
   "execution_count": 11,
   "id": "9df997f9",
   "metadata": {},
   "outputs": [
    {
     "name": "stdout",
     "output_type": "stream",
     "text": [
      "python\n"
     ]
    }
   ],
   "source": [
    "str5 ='python     '\n",
    "print(str5.rstrip())"
   ]
  },
  {
   "cell_type": "code",
   "execution_count": 8,
   "id": "a82db72f",
   "metadata": {},
   "outputs": [
    {
     "name": "stdout",
     "output_type": "stream",
     "text": [
      "Defaulting to user installation because normal site-packages is not writeable\n",
      "Collecting jieba\n",
      "  Downloading jieba-0.42.1.tar.gz (19.2 MB)\n",
      "\u001b[2K     \u001b[38;2;114;156;31m━━━━━━━━━━━━━━━━━━━━━━━━━━━━━━━━━━━━━━━━\u001b[0m \u001b[32m19.2/19.2 MB\u001b[0m \u001b[31m39.4 MB/s\u001b[0m eta \u001b[36m0:00:00\u001b[0mm eta \u001b[36m0:00:01\u001b[0m[36m0:00:01\u001b[0m\n",
      "\u001b[?25h  Preparing metadata (setup.py) ... \u001b[?25ldone\n",
      "\u001b[?25hBuilding wheels for collected packages: jieba\n",
      "  Building wheel for jieba (setup.py) ... \u001b[?25ldone\n",
      "\u001b[?25h  Created wheel for jieba: filename=jieba-0.42.1-py3-none-any.whl size=19314478 sha256=acb4c611b93e1a22aff680d0404740841dff926e1ae804096a4579e759119bfb\n",
      "  Stored in directory: /home/matlab/.cache/pip/wheels/c9/69/31/d56d90b22a1777b0b231e234b00302a55be255930f8bd92dcd\n",
      "Successfully built jieba\n",
      "Installing collected packages: jieba\n",
      "Successfully installed jieba-0.42.1\n",
      "Note: you may need to restart the kernel to use updated packages.\n"
     ]
    }
   ],
   "source": [
    "pip install jieba"
   ]
  },
  {
   "cell_type": "markdown",
   "id": "ed7709a8",
   "metadata": {},
   "source": [
    "## Chinese Segmented Package "
   ]
  },
  {
   "cell_type": "code",
   "execution_count": 9,
   "id": "934c7cc4",
   "metadata": {},
   "outputs": [],
   "source": [
    "import jieba"
   ]
  },
  {
   "cell_type": "code",
   "execution_count": 12,
   "id": "cf8092d2",
   "metadata": {},
   "outputs": [],
   "source": [
    "with open('Chinese_text','r',encoding='utf-8') as text:\n",
    "    data = text.read()"
   ]
  },
  {
   "cell_type": "code",
   "execution_count": 13,
   "id": "285ef81c",
   "metadata": {},
   "outputs": [
    {
     "data": {
      "text/plain": [
       "'（书、杂志等中区别于图片的）正文，文字材料\\n'"
      ]
     },
     "execution_count": 13,
     "metadata": {},
     "output_type": "execute_result"
    }
   ],
   "source": [
    "data"
   ]
  },
  {
   "cell_type": "code",
   "execution_count": 16,
   "id": "96843dea",
   "metadata": {},
   "outputs": [],
   "source": [
    "seg_list = jieba.cut(data,cut_all=True)"
   ]
  },
  {
   "cell_type": "code",
   "execution_count": 17,
   "id": "d89f18f2",
   "metadata": {},
   "outputs": [
    {
     "data": {
      "text/plain": [
       "<generator object Tokenizer.cut at 0x7645b8207c30>"
      ]
     },
     "execution_count": 17,
     "metadata": {},
     "output_type": "execute_result"
    }
   ],
   "source": [
    "seg_list"
   ]
  },
  {
   "cell_type": "code",
   "execution_count": 18,
   "id": "776eb7c4",
   "metadata": {},
   "outputs": [
    {
     "name": "stderr",
     "output_type": "stream",
     "text": [
      "Building prefix dict from the default dictionary ...\n",
      "Dumping model to file cache /tmp/jieba.cache\n",
      "Loading model cost 0.912 seconds.\n",
      "Prefix dict has been built successfully.\n"
     ]
    }
   ],
   "source": [
    "new_text = (\" \".join(seg_list))"
   ]
  },
  {
   "cell_type": "code",
   "execution_count": 19,
   "id": "dbe94d50",
   "metadata": {},
   "outputs": [
    {
     "data": {
      "text/plain": [
       "'（ 书 、 杂志 等 中区 区别 于 图片 的 ） 正文 ， 文字 材料  \\n '"
      ]
     },
     "execution_count": 19,
     "metadata": {},
     "output_type": "execute_result"
    }
   ],
   "source": [
    "new_text"
   ]
  },
  {
   "cell_type": "markdown",
   "id": "46c58de0",
   "metadata": {},
   "source": [
    "## Text Processing"
   ]
  },
  {
   "cell_type": "code",
   "execution_count": 2,
   "id": "7ba7819d",
   "metadata": {},
   "outputs": [],
   "source": [
    "from urllib import request"
   ]
  },
  {
   "cell_type": "code",
   "execution_count": 3,
   "id": "e6136d51",
   "metadata": {},
   "outputs": [],
   "source": [
    "url = \"https://www.gutenberg.org/cache/epub/25344/pg25344.txt\""
   ]
  },
  {
   "cell_type": "code",
   "execution_count": 4,
   "id": "e82459ef",
   "metadata": {},
   "outputs": [],
   "source": [
    "response = request.urlopen(url)"
   ]
  },
  {
   "cell_type": "code",
   "execution_count": 5,
   "id": "67c47a6d",
   "metadata": {},
   "outputs": [],
   "source": [
    "raw = response.read().decode('utf-8')"
   ]
  },
  {
   "cell_type": "code",
   "execution_count": 11,
   "id": "eb9ae270",
   "metadata": {},
   "outputs": [
    {
     "name": "stdout",
     "output_type": "stream",
     "text": [
      "Defaulting to user installation because normal site-packages is not writeable\n",
      "Requirement already satisfied: nltk in ./.local/lib/python3.10/site-packages (3.9.1)\n",
      "Requirement already satisfied: tqdm in ./.local/lib/python3.10/site-packages (from nltk) (4.67.1)\n",
      "Requirement already satisfied: click in /usr/lib/python3/dist-packages (from nltk) (8.0.3)\n",
      "Requirement already satisfied: regex>=2021.8.3 in ./.local/lib/python3.10/site-packages (from nltk) (2024.11.6)\n",
      "Requirement already satisfied: joblib in ./.local/lib/python3.10/site-packages (from nltk) (1.5.1)\n",
      "Note: you may need to restart the kernel to use updated packages.\n"
     ]
    }
   ],
   "source": [
    "pip install nltk"
   ]
  },
  {
   "cell_type": "code",
   "execution_count": 7,
   "id": "c4d226e3",
   "metadata": {},
   "outputs": [
    {
     "name": "stderr",
     "output_type": "stream",
     "text": [
      "/usr/lib/python3/dist-packages/scipy/__init__.py:146: UserWarning: A NumPy version >=1.17.3 and <1.25.0 is required for this version of SciPy (detected version 1.26.2\n",
      "  warnings.warn(f\"A NumPy version >={np_minversion} and <{np_maxversion}\"\n"
     ]
    }
   ],
   "source": [
    "import nltk\n",
    "from nltk.tokenize import word_tokenize"
   ]
  },
  {
   "cell_type": "code",
   "execution_count": null,
   "id": "a663f994",
   "metadata": {},
   "outputs": [],
   "source": [
    "nltk.download()"
   ]
  },
  {
   "cell_type": "code",
   "execution_count": 8,
   "id": "6bd43245",
   "metadata": {},
   "outputs": [],
   "source": [
    "url = \"https://www.gutenberg.org/cache/epub/25344/pg25344.txt\"\n",
    "response = request.urlopen(url)\n",
    "tokens = word_tokenize(raw)"
   ]
  },
  {
   "cell_type": "code",
   "execution_count": 9,
   "id": "a8b57b51",
   "metadata": {},
   "outputs": [
    {
     "name": "stdout",
     "output_type": "stream",
     "text": [
      "['\\ufeffThe', 'Project', 'Gutenberg', 'eBook', 'of', 'The', 'Scarlet', 'Letter', 'This', 'ebook', 'is', 'for', 'the', 'use', 'of', 'anyone', 'anywhere', 'in', 'the', 'United', 'States', 'and', 'most', 'other', 'parts', 'of', 'the', 'world', 'at', 'no', 'cost', 'and', 'with', 'almost', 'no', 'restrictions', 'whatsoever', '.', 'You', 'may', 'copy', 'it', ',', 'give', 'it', 'away', 'or', 're-use', 'it', 'under', 'the', 'terms', 'of', 'the', 'Project', 'Gutenberg', 'License', 'included', 'with', 'this', 'ebook', 'or', 'online', 'at', 'www.gutenberg.org', '.', 'If', 'you', 'are', 'not', 'located', 'in', 'the', 'United', 'States', ',', 'you', 'will', 'have', 'to', 'check', 'the', 'laws', 'of', 'the', 'country', 'where', 'you', 'are', 'located', 'before', 'using', 'this', 'eBook', '.', 'Title', ':', 'The', 'Scarlet', 'Letter', 'Author', ':', 'Nathaniel', 'Hawthorne', 'Engraver', ':', 'A.', 'V.', 'S.', 'Anthony', 'Illustrator', ':', 'Mary', 'Hallock', 'Foote', 'Ludvig', 'Sandöe', 'Ipsen', 'Release', 'date', ':', 'May', '5', ',', '2008', '[', 'eBook', '#', '25344', ']', 'Most', 'recently', 'updated', ':', 'July', '13', ',', '2025', 'Language', ':', 'English', 'Credits', ':', 'Markus', 'Brenner', ',', 'Irma', 'Spehar', 'and', 'the', 'Online', 'Distributed', 'Proofreading', 'Team', '*', '*', '*', 'START', 'OF', 'THE', 'PROJECT', 'GUTENBERG', 'EBOOK', 'THE', 'SCARLET', 'LETTER', '*', '*', '*', 'THE', 'SCARLET', 'LETTER', '.', 'BY', 'NATHANIEL', 'HAWTHORNE', '.', 'Illustrated', '.', '[', 'Illustration', ']', 'BOSTON', ':', 'JAMES', 'R.', 'OSGOOD', 'AND', 'COMPANY', ',', 'LATE', 'TICKNOR', '&', 'FIELDS', ',', 'AND', 'FIELDS', ',', 'OSGOOD', ',']\n"
     ]
    }
   ],
   "source": [
    "print(tokens[:200])"
   ]
  },
  {
   "cell_type": "code",
   "execution_count": 13,
   "id": "bb649944",
   "metadata": {},
   "outputs": [
    {
     "data": {
      "text/plain": [
       "104019"
      ]
     },
     "execution_count": 13,
     "metadata": {},
     "output_type": "execute_result"
    }
   ],
   "source": [
    "len(tokens)"
   ]
  },
  {
   "cell_type": "code",
   "execution_count": 14,
   "id": "1efc8f68",
   "metadata": {},
   "outputs": [
    {
     "data": {
      "text/plain": [
       "str"
      ]
     },
     "execution_count": 14,
     "metadata": {},
     "output_type": "execute_result"
    }
   ],
   "source": [
    "type(raw)"
   ]
  },
  {
   "cell_type": "code",
   "execution_count": 15,
   "id": "bcde9c84",
   "metadata": {},
   "outputs": [],
   "source": [
    "from nltk.probability import FreqDist"
   ]
  },
  {
   "cell_type": "code",
   "execution_count": 16,
   "id": "8a1a1e1c",
   "metadata": {},
   "outputs": [
    {
     "name": "stdout",
     "output_type": "stream",
     "text": [
      "[(',', 9320), ('the', 5058), ('of', 3339), ('and', 2685), ('.', 2681)]\n"
     ]
    },
    {
     "data": {
      "text/plain": [
       "<AxesSubplot:xlabel='Samples', ylabel='Counts'>"
      ]
     },
     "execution_count": 16,
     "metadata": {},
     "output_type": "execute_result"
    },
    {
     "data": {
      "image/png": "[encoded data removed]",
      "text/plain": [
       "<Figure size 432x288 with 1 Axes>"
      ]
     },
     "metadata": {
      "needs_background": "light"
     },
     "output_type": "display_data"
    }
   ],
   "source": [
    "fdist = FreqDist(tokens)\n",
    "print(fdist.most_common(5))\n",
    "fdist.plot(10)"
   ]
  },
  {
   "cell_type": "code",
   "execution_count": null,
   "id": "59ef892f",
   "metadata": {},
   "outputs": [],
   "source": []
  }
 ],
 "metadata": {
  "kernelspec": {
   "display_name": "Python 3 (ipykernel)",
   "language": "python",
   "name": "python3"
  },
  "language_info": {
   "codemirror_mode": {
    "name": "ipython",
    "version": 3
   },
   "file_extension": ".py",
   "mimetype": "text/x-python",
   "name": "python",
   "nbconvert_exporter": "python",
   "pygments_lexer": "ipython3",
   "version": "3.10.12"
  }
 },
 "nbformat": 4,
 "nbformat_minor": 5
}
