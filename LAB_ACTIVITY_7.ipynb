{
 "cells": [
  {
   "cell_type": "markdown",
   "id": "0ff9545a-6379-490e-a4bb-092f041d278b",
   "metadata": {},
   "source": [
    "## LAB ACTIVITY 7\n",
    "## NAME : SONALI R\n",
    "## REG NO : 22MID0061\n",
    "## COURSE CODE : CSI3007\n",
    "## LAB : L27+L28\n",
    "## DATE : 02/08/2025"
   ]
  },
  {
   "cell_type": "markdown",
   "id": "4cb71d5c-a8bc-4a3d-914b-e95075911986",
   "metadata": {},
   "source": [
    "## Functions"
   ]
  },
  {
   "cell_type": "markdown",
   "id": "46d8455e-189e-4d48-9841-493ba810aad8",
   "metadata": {},
   "source": [
    "## 1. Passing Arguments - Positonal Arguments and keyword Arguments"
   ]
  },
  {
   "cell_type": "code",
   "execution_count": 5,
   "id": "834129e6-3c5a-4512-9ff5-057cc9d9a7f4",
   "metadata": {},
   "outputs": [
    {
     "name": "stdout",
     "output_type": "stream",
     "text": [
      "\n",
      " I have a pet Hamster.\n",
      "My Hamster's name is Harry.\n"
     ]
    }
   ],
   "source": [
    "def describe_pet(animal_type, pet_name):\n",
    "    \"\"\"Display information about a pet\"\"\"\n",
    "    print(f\"\\n I have a pet {animal_type}.\")\n",
    "    print(f\"My {animal_type}'s name is {pet_name.title()}.\")\n",
    "\n",
    "describe_pet(\"Hamster\",\"Harry\")  # function call"
   ]
  },
  {
   "cell_type": "markdown",
   "id": "078c3f19-98df-4209-81d4-80b20e10b88d",
   "metadata": {},
   "source": [
    "## 2.Multiple Function Call"
   ]
  },
  {
   "cell_type": "code",
   "execution_count": 8,
   "id": "ccd25b71-922a-4cf9-99af-75cbd9e4723d",
   "metadata": {},
   "outputs": [
    {
     "name": "stdout",
     "output_type": "stream",
     "text": [
      "\n",
      " I have a pet Hamster.\n",
      "My Hamster's name is Harry.\n",
      "\n",
      " I have a pet Dog.\n",
      "My Dog's name is Bruno.\n"
     ]
    }
   ],
   "source": [
    "def describe_pet(animal_type, pet_name):\n",
    "    \"\"\"Display information about a pet\"\"\"\n",
    "    print(f\"\\n I have a pet {animal_type}.\")\n",
    "    print(f\"My {animal_type}'s name is {pet_name.title()}.\")\n",
    "\n",
    "describe_pet(\"Hamster\",\"Harry\")  # function call\n",
    "describe_pet(\"Dog\",\"Bruno\")      # Another function call"
   ]
  },
  {
   "cell_type": "markdown",
   "id": "4ecbaac8-b2c7-40fa-9330-d4348c3f7eba",
   "metadata": {},
   "source": [
    "## 3. Order matters in positional Arguments"
   ]
  },
  {
   "cell_type": "code",
   "execution_count": 11,
   "id": "6683bd5d-ebaa-4904-8af8-4e0647d65a9d",
   "metadata": {},
   "outputs": [
    {
     "name": "stdout",
     "output_type": "stream",
     "text": [
      "\n",
      " I have a pet Harry.\n",
      "My Harry's name is Hamster.\n"
     ]
    }
   ],
   "source": [
    "def describe_pet(animal_type, pet_name):\n",
    "    \"\"\"Display information about a pet\"\"\"\n",
    "    print(f\"\\n I have a pet {animal_type}.\")\n",
    "    print(f\"My {animal_type}'s name is {pet_name.title()}.\")\n",
    "\n",
    "describe_pet(\"Harry\",\"Hamster\")  # function call"
   ]
  },
  {
   "cell_type": "markdown",
   "id": "01f8cc5b-8591-40cb-a77f-2f586c6efb10",
   "metadata": {},
   "source": [
    "## 4. Keyword Arguments"
   ]
  },
  {
   "cell_type": "code",
   "execution_count": 14,
   "id": "78145b22-a7a8-4a8e-8f9b-7faf25fa1613",
   "metadata": {},
   "outputs": [
    {
     "name": "stdout",
     "output_type": "stream",
     "text": [
      "\n",
      " I have a pet Hamster.\n",
      "My Hamster's name is Harry.\n"
     ]
    }
   ],
   "source": [
    "def describe_pet(animal_type, pet_name):\n",
    "    \"\"\"Display information about a pet\"\"\"\n",
    "    print(f\"\\n I have a pet {animal_type}.\")\n",
    "    print(f\"My {animal_type}'s name is {pet_name.title()}.\")\n",
    "\n",
    "describe_pet(animal_type = \"Hamster\",pet_name = \"Harry\") # function call"
   ]
  },
  {
   "cell_type": "markdown",
   "id": "763efe8e-a6d3-4468-b796-2e339b402b07",
   "metadata": {},
   "source": [
    "## 5. Default Values"
   ]
  },
  {
   "cell_type": "code",
   "execution_count": 17,
   "id": "86273da7-ea6c-4c88-a36c-2b5ed0f0edec",
   "metadata": {},
   "outputs": [
    {
     "name": "stdout",
     "output_type": "stream",
     "text": [
      "\n",
      " I have a pet dog.\n",
      "My dog's name is Bruno.\n"
     ]
    }
   ],
   "source": [
    "def describe_pet(pet_name, animal_type = \"dog\"):\n",
    "    \"\"\"Display information about a pet\"\"\"\n",
    "    print(f\"\\n I have a pet {animal_type}.\")\n",
    "    print(f\"My {animal_type}'s name is {pet_name.title()}.\")\n",
    "\n",
    "describe_pet(pet_name = \"Bruno\") # function call"
   ]
  },
  {
   "cell_type": "markdown",
   "id": "929a2dee-23e7-40c1-af8f-702314305079",
   "metadata": {},
   "source": [
    "## 6. Hence many ways to call a function"
   ]
  },
  {
   "cell_type": "code",
   "execution_count": 19,
   "id": "db3a02db-6f68-4af7-acc1-fd3bd780fc4a",
   "metadata": {},
   "outputs": [
    {
     "name": "stdout",
     "output_type": "stream",
     "text": [
      "\n",
      " I have a pet dog.\n",
      "My dog's name is Bruno.\n",
      "\n",
      " I have a pet dog.\n",
      "My dog's name is Bruno.\n",
      "\n",
      " I have a pet Hamster.\n",
      "My Hamster's name is Harry.\n",
      "\n",
      " I have a pet Hamster.\n",
      "My Hamster's name is Harry.\n",
      "\n",
      " I have a pet Harry.\n",
      "My Harry's name is Hamster.\n",
      "\n",
      " I have a pet Hamster.\n",
      "My Hamster's name is Harry.\n"
     ]
    }
   ],
   "source": [
    "describe_pet(\"Bruno\") # Positional argument and default values\n",
    "describe_pet(pet_name = \"Bruno\") # Keyword argument and default values\n",
    "describe_pet(animal_type = \"Hamster\",pet_name = \"Harry\") # Keyword argument (doesn't matter on order)\n",
    "describe_pet(\"Harry\",\"Hamster\") # Positional Argument\n",
    "describe_pet(\"Hamster\",animal_type=\"Harry\") # Positional argument and Keyword argument\n",
    "describe_pet(pet_name = \"Harry\",animal_type = \"Hamster\") # Keyword argument"
   ]
  },
  {
   "cell_type": "markdown",
   "id": "fda27df9-c678-4c5f-b1a0-30c463fee134",
   "metadata": {},
   "source": [
    "## 7. Returning a simple value"
   ]
  },
  {
   "cell_type": "code",
   "execution_count": 22,
   "id": "d8e8d9bd-403a-4c7c-9a0b-629515725494",
   "metadata": {},
   "outputs": [
    {
     "name": "stdout",
     "output_type": "stream",
     "text": [
      "Jimi Hendrix\n"
     ]
    }
   ],
   "source": [
    "def get_formatted_name(first_name, last_name):\n",
    "    \"\"\"\"Return a full name, neatly formatted\"\"\"\n",
    "    full_name = f\"{first_name} {last_name}\"\n",
    "    return full_name.title()\n",
    "\n",
    "musician = get_formatted_name('jimi','hendrix')\n",
    "print(musician)"
   ]
  },
  {
   "cell_type": "markdown",
   "id": "2090e709-da1b-41ed-82b4-c1ff45647e59",
   "metadata": {},
   "source": [
    "## 8. Making an argument optional"
   ]
  },
  {
   "cell_type": "code",
   "execution_count": 24,
   "id": "96be46d8-6ee8-4e75-a9f7-d216e82a5d45",
   "metadata": {},
   "outputs": [
    {
     "name": "stdout",
     "output_type": "stream",
     "text": [
      "Jimi Hendrix\n",
      "John Paul Doe\n"
     ]
    }
   ],
   "source": [
    "# Function to return a full name, where the middle name is optional\n",
    "def get_formatted_name(first_name, last_name, middle_name=''):\n",
    "    \"\"\"Return a full name, neatly formatted. Middle name is optional.\"\"\"\n",
    "    if middle_name:\n",
    "        # If middle name is provided, include it in the full name\n",
    "        full_name = f\"{first_name} {middle_name} {last_name}\"\n",
    "    else:\n",
    "        # If no middle name, just use first and last name\n",
    "        full_name = f\"{first_name} {last_name}\"\n",
    "    \n",
    "    return full_name.title()  # Return the full name in title case (e.g., Jimi Hendrix)\n",
    "\n",
    "# Calling the function with only first and last name\n",
    "musician = get_formatted_name('jimi', 'hendrix')\n",
    "print(musician)  \n",
    "\n",
    "# Calling the function with a middle name\n",
    "musician = get_formatted_name('john', 'doe', 'paul')\n",
    "print(musician)  \n"
   ]
  },
  {
   "cell_type": "markdown",
   "id": "05c02976-e269-4e32-857a-2c41c056f39f",
   "metadata": {},
   "source": [
    "## 9. Returning a dictionary"
   ]
  },
  {
   "cell_type": "code",
   "execution_count": 26,
   "id": "dc8943e0-0231-44bb-ad7c-132f2685298c",
   "metadata": {},
   "outputs": [
    {
     "name": "stdout",
     "output_type": "stream",
     "text": [
      "{'first_name': 'Jimi', 'last_name': 'Hendrix'}\n"
     ]
    }
   ],
   "source": [
    "def get_formatted_name(first_name, last_name):\n",
    "    \"\"\"Return a dictionary with full name details\"\"\"\n",
    "    return {\n",
    "        'first_name': first_name.title(),\n",
    "        'last_name': last_name.title()\n",
    "    }\n",
    "\n",
    "musician = get_formatted_name('jimi','hendrix')\n",
    "print(musician)"
   ]
  },
  {
   "cell_type": "markdown",
   "id": "a41078d8-6e95-4591-ad9c-2c7dac836902",
   "metadata": {},
   "source": [
    "## 10. Passing a list"
   ]
  },
  {
   "cell_type": "code",
   "execution_count": 29,
   "id": "3554c216-d6e5-4216-aecf-1205e807c888",
   "metadata": {},
   "outputs": [
    {
     "name": "stdout",
     "output_type": "stream",
     "text": [
      "Hello, Sonali\n",
      "Hello, Kamesh\n",
      "Hello, Anu\n",
      "Hello, Sudha\n"
     ]
    }
   ],
   "source": [
    "def greet_user(names):\n",
    "    # printing a list of elements\n",
    "    for name in names:\n",
    "        msg = f\"Hello, {name}\"\n",
    "        print(msg)\n",
    "\n",
    "names = ['Sonali','Kamesh','Anu','Sudha']\n",
    "greet_user(names)"
   ]
  },
  {
   "cell_type": "markdown",
   "id": "9ff5cad6-903b-4a07-9d20-8c4e2bf39010",
   "metadata": {},
   "source": [
    "## 11. Modifying a list"
   ]
  },
  {
   "cell_type": "code",
   "execution_count": 31,
   "id": "98917d4a-074d-4e90-83d7-2d8956c1889f",
   "metadata": {},
   "outputs": [
    {
     "name": "stdout",
     "output_type": "stream",
     "text": [
      "Hello, Sonali\n",
      "Hello, Kamesh\n",
      "Hello, Anu\n",
      "Hello, Sudha\n",
      "\n",
      "Greeted users:\n",
      "['Sonali', 'Kamesh', 'Anu', 'Sudha']\n"
     ]
    }
   ],
   "source": [
    "def greet_and_store(names, greeted_names):\n",
    "    # Greet each user and move them to greeted_names list\n",
    "    while names:\n",
    "        name = names.pop(0)  # Remove from original list (from front)\n",
    "        print(f\"Hello, {name}\")\n",
    "        greeted_names.append(name)  # Add to greeted list\n",
    "\n",
    "# Original list of names\n",
    "names = ['Sonali', 'Kamesh', 'Anu', 'Sudha']\n",
    "greeted_names = []\n",
    "\n",
    "# Call the function\n",
    "greet_and_store(names, greeted_names)\n",
    "\n",
    "# Display greeted users\n",
    "print(\"\\nGreeted users:\")\n",
    "print(greeted_names)"
   ]
  },
  {
   "cell_type": "code",
   "execution_count": 33,
   "id": "07caffa9-ef77-4b88-b2db-bf193d24dd6e",
   "metadata": {},
   "outputs": [
    {
     "name": "stdout",
     "output_type": "stream",
     "text": [
      "[]\n"
     ]
    }
   ],
   "source": [
    "print(names) # modified original list"
   ]
  },
  {
   "cell_type": "markdown",
   "id": "010a1a84-e3cd-4354-89ca-37e088afcb95",
   "metadata": {},
   "source": [
    "## 12. Protecting a list from updates"
   ]
  },
  {
   "cell_type": "code",
   "execution_count": 35,
   "id": "2b39cff5-38ab-4b66-9e92-ccea9b413c17",
   "metadata": {},
   "outputs": [
    {
     "name": "stdout",
     "output_type": "stream",
     "text": [
      "Hello, Sonali\n",
      "Hello, Kamesh\n",
      "Hello, Anu\n",
      "Hello, Sudha\n",
      "\n",
      "Original list:\n",
      "['Sonali', 'Kamesh', 'Anu', 'Sudha']\n",
      "\n",
      "Greeted users:\n",
      "['Sonali', 'Kamesh', 'Anu', 'Sudha']\n"
     ]
    }
   ],
   "source": [
    "def greet_and_store(names, greeted_names):\n",
    "    # Greet each user and move them to greeted_names list\n",
    "    while names:\n",
    "        name = names.pop(0)  # This modifies the copied list only\n",
    "        print(f\"Hello, {name}\")\n",
    "        greeted_names.append(name)\n",
    "\n",
    "# Original list of names\n",
    "names = ['Sonali', 'Kamesh', 'Anu', 'Sudha']\n",
    "greeted_names = []\n",
    "\n",
    "# Pass a copy of the list using names[:]\n",
    "greet_and_store(names[:], greeted_names)\n",
    "\n",
    "# Show the original and modified lists\n",
    "print(\"\\nOriginal list:\")\n",
    "print(names)  # Unchanged\n",
    "\n",
    "print(\"\\nGreeted users:\")\n",
    "print(greeted_names)  # Only contains greeted names"
   ]
  },
  {
   "cell_type": "markdown",
   "id": "e719a295-843e-4e14-b8b4-1b3690206a6b",
   "metadata": {},
   "source": [
    "## 13. Passing an Arbitrary number of arguments"
   ]
  },
  {
   "cell_type": "code",
   "execution_count": 38,
   "id": "74361dd6-04bf-4be4-8fcc-98adc281c9ca",
   "metadata": {},
   "outputs": [
    {
     "name": "stdout",
     "output_type": "stream",
     "text": [
      "('pepperoni',)\n",
      "('pepperoni', 'mushrooms', 'green pepper', 'extra cheese')\n"
     ]
    }
   ],
   "source": [
    "def make_pizza(*toppings):\n",
    "    # printing n number of arguments\n",
    "    print(toppings)\n",
    "    \n",
    "make_pizza(\"pepperoni\")\n",
    "make_pizza(\"pepperoni\",\"mushrooms\", \"green pepper\",\"extra cheese\")"
   ]
  },
  {
   "cell_type": "markdown",
   "id": "c2328361-4537-4a6a-9bd6-248dde3bbc46",
   "metadata": {},
   "source": [
    "## 14. Mixing Positional and Arbitrary Arguments "
   ]
  },
  {
   "cell_type": "code",
   "execution_count": 48,
   "id": "08661a89-1355-4cfa-b3fa-348dae8682a6",
   "metadata": {},
   "outputs": [
    {
     "name": "stdout",
     "output_type": "stream",
     "text": [
      "\n",
      " Making a 16-inch pizza with the following toppings\n",
      "- pepperoni\n",
      "\n",
      " Making a 22-inch pizza with the following toppings\n",
      "- pepperoni\n",
      "- mushrooms\n",
      "- green pepper\n",
      "- extra cheese\n"
     ]
    }
   ],
   "source": [
    "def make_pizza(size, *toppings):\n",
    "    # size is a postional and toppings is a keyword argument\n",
    "    print(f\"\\n Making a {size}-inch pizza with the following toppings\")\n",
    "    for topping in toppings:\n",
    "        print(f\"- {topping}\")\n",
    "    \n",
    "make_pizza(16,\"pepperoni\")\n",
    "make_pizza(22,\"pepperoni\",\"mushrooms\", \"green pepper\",\"extra cheese\")"
   ]
  },
  {
   "cell_type": "markdown",
   "id": "bd2f98be-d424-4efa-afe5-d1d8ae0375bd",
   "metadata": {},
   "source": [
    "## 15. Using Arbitrary Keyword Arguments"
   ]
  },
  {
   "cell_type": "code",
   "execution_count": 51,
   "id": "eff02cb6-f82a-4a7a-8c1d-58912ddc136c",
   "metadata": {},
   "outputs": [
    {
     "name": "stdout",
     "output_type": "stream",
     "text": [
      "{'location': 'princeton', 'field': 'physics', 'first_name': 'albert', 'last_name': 'einstein'}\n"
     ]
    }
   ],
   "source": [
    "def build_profile(first, last, **user_info):\n",
    "    # positional and keyword arguments returning a dict\n",
    "    user_info['first_name'] = first\n",
    "    user_info['last_name'] = last\n",
    "    return user_info\n",
    "\n",
    "user_profile = build_profile('albert','einstein',location='princeton',field='physics')\n",
    "print(user_profile)"
   ]
  },
  {
   "cell_type": "markdown",
   "id": "04b1c3c1-a636-4460-a725-26b5419812de",
   "metadata": {},
   "source": [
    "## 16. Storing your function in modules"
   ]
  },
  {
   "cell_type": "code",
   "execution_count": 29,
   "id": "510de6c1-ac13-423a-926f-b6292caacc01",
   "metadata": {},
   "outputs": [
    {
     "name": "stdout",
     "output_type": "stream",
     "text": [
      "Collecting nbimporter\n",
      "  Downloading nbimporter-0.3.4-py3-none-any.whl.metadata (252 bytes)\n",
      "Downloading nbimporter-0.3.4-py3-none-any.whl (4.9 kB)\n",
      "Installing collected packages: nbimporter\n",
      "Successfully installed nbimporter-0.3.4\n"
     ]
    }
   ],
   "source": [
    "!pip install nbimporter"
   ]
  },
  {
   "cell_type": "code",
   "execution_count": 38,
   "id": "b7497a04-3ccd-4dcf-ae19-b13e22c3061b",
   "metadata": {},
   "outputs": [
    {
     "name": "stdout",
     "output_type": "stream",
     "text": [
      "Collecting ipynb\n",
      "  Downloading ipynb-0.5.1-py3-none-any.whl.metadata (303 bytes)\n",
      "Downloading ipynb-0.5.1-py3-none-any.whl (6.9 kB)\n",
      "Installing collected packages: ipynb\n",
      "Successfully installed ipynb-0.5.1\n"
     ]
    }
   ],
   "source": [
    "!pip install ipynb"
   ]
  },
  {
   "cell_type": "code",
   "execution_count": 59,
   "id": "11ba2b46-4f33-451a-996c-bd663925f0dc",
   "metadata": {},
   "outputs": [
    {
     "name": "stdout",
     "output_type": "stream",
     "text": [
      "\n",
      " Making a 16-inch pizza with the following toppings\n",
      "-('pepperoni',)\n"
     ]
    }
   ],
   "source": [
    "from pizza import make_pizza   # stored make_pizza function in pizza module\n",
    "make_pizza(16,'pepperoni')"
   ]
  },
  {
   "cell_type": "markdown",
   "id": "9e732d13-7374-4a4f-8c35-d05895a79e63",
   "metadata": {},
   "source": [
    "## 17. Importing Specific Functions"
   ]
  },
  {
   "cell_type": "code",
   "execution_count": 63,
   "id": "06e8199c-04be-4c3e-80e7-63b7667abc8b",
   "metadata": {},
   "outputs": [
    {
     "name": "stdout",
     "output_type": "stream",
     "text": [
      "\n",
      " Making a 16-inch pizza with the following toppings\n",
      "-('pepperoni',)\n",
      "\n",
      " Making a 22-inch pizza with the following toppings\n",
      "-('pepperoni', 'mushrooms', 'green pepper', 'extra cheese')\n",
      "-('pepperoni', 'mushrooms', 'green pepper', 'extra cheese')\n",
      "-('pepperoni', 'mushrooms', 'green pepper', 'extra cheese')\n",
      "-('pepperoni', 'mushrooms', 'green pepper', 'extra cheese')\n"
     ]
    }
   ],
   "source": [
    "from pizza import make_pizza   # importing make_pizza function from pizza module\n",
    "\n",
    "make_pizza(16, \"pepperoni\")\n",
    "make_pizza(22, \"pepperoni\", \"mushrooms\", \"green pepper\", \"extra cheese\")"
   ]
  },
  {
   "cell_type": "markdown",
   "id": "1c64542b-9ecc-48ec-bbdc-4dc1fb6e4f25",
   "metadata": {},
   "source": [
    "## 18. Give a Function an Alias using 'as' "
   ]
  },
  {
   "cell_type": "code",
   "execution_count": 66,
   "id": "83381656-aa53-490e-aebe-c516e906aea9",
   "metadata": {},
   "outputs": [
    {
     "name": "stdout",
     "output_type": "stream",
     "text": [
      "\n",
      " Making a 12-inch pizza with the following toppings\n",
      "-('onions', 'capsicum')\n",
      "-('onions', 'capsicum')\n",
      "\n",
      " Making a 18-inch pizza with the following toppings\n",
      "-('mushrooms', 'paneer', 'black olives')\n",
      "-('mushrooms', 'paneer', 'black olives')\n",
      "-('mushrooms', 'paneer', 'black olives')\n"
     ]
    }
   ],
   "source": [
    "from pizza import make_pizza as mp  # Giving alias 'mp' to the function\n",
    "\n",
    "mp(12, \"onions\", \"capsicum\")\n",
    "mp(18, \"mushrooms\", \"paneer\", \"black olives\")"
   ]
  },
  {
   "cell_type": "markdown",
   "id": "760a069b-3161-4e4f-b77c-fddf9c4cf91b",
   "metadata": {},
   "source": [
    "## 19. Give a Module an Alias using 'as'"
   ]
  },
  {
   "cell_type": "code",
   "execution_count": 69,
   "id": "2b468bcd-e10f-43cd-8463-d1bd696b2718",
   "metadata": {},
   "outputs": [
    {
     "name": "stdout",
     "output_type": "stream",
     "text": [
      "\n",
      " Making a 14-inch pizza with the following toppings\n",
      "-('cheese',)\n",
      "\n",
      " Making a 18-inch pizza with the following toppings\n",
      "-('pepperoni', 'mushrooms', 'capsicum')\n",
      "-('pepperoni', 'mushrooms', 'capsicum')\n",
      "-('pepperoni', 'mushrooms', 'capsicum')\n"
     ]
    }
   ],
   "source": [
    "import pizza as p  # Giving alias 'p' to the module\n",
    "\n",
    "p.make_pizza(14, \"cheese\")\n",
    "p.make_pizza(18, \"pepperoni\", \"mushrooms\", \"capsicum\")"
   ]
  },
  {
   "cell_type": "markdown",
   "id": "cc86fa08-2889-4ffb-a19b-5b6359341314",
   "metadata": {},
   "source": [
    "## 20. Importing all Functions in a Module"
   ]
  },
  {
   "cell_type": "code",
   "execution_count": 74,
   "id": "9a93e596-168e-486a-97e4-370be1eea378",
   "metadata": {},
   "outputs": [
    {
     "name": "stdout",
     "output_type": "stream",
     "text": [
      "\n",
      " Making a 12-inch pizza with the following toppings\n",
      "-('sweet corn',)\n",
      "\n",
      " Making a 16-inch pizza with the following toppings\n",
      "-('pepperoni', 'olives', 'cheese')\n",
      "-('pepperoni', 'olives', 'cheese')\n",
      "-('pepperoni', 'olives', 'cheese')\n"
     ]
    }
   ],
   "source": [
    "from pizza import *  # Imports all functions from pizza module\n",
    "\n",
    "make_pizza(12, \"sweet corn\")\n",
    "make_pizza(16, \"pepperoni\", \"olives\", \"cheese\")"
   ]
  },
  {
   "cell_type": "code",
   "execution_count": null,
   "id": "3f07c4f5-e8e0-4f56-818c-e5bf898e2740",
   "metadata": {},
   "outputs": [],
   "source": []
  }
 ],
 "metadata": {
  "kernelspec": {
   "display_name": "Python 3 (ipykernel)",
   "language": "python",
   "name": "python3"
  },
  "language_info": {
   "codemirror_mode": {
    "name": "ipython",
    "version": 3
   },
   "file_extension": ".py",
   "mimetype": "text/x-python",
   "name": "python",
   "nbconvert_exporter": "python",
   "pygments_lexer": "ipython3",
   "version": "3.12.7"
  }
 },
 "nbformat": 4,
 "nbformat_minor": 5
}
