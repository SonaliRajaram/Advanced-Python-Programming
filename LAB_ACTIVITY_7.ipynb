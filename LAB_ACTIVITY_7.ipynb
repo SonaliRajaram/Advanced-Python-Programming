{
 "cells": [
  {
   "cell_type": "markdown",
   "id": "0ff9545a-6379-490e-a4bb-092f041d278b",
   "metadata": {},
   "source": [
    "## LAB ACTIVITY 7\n",
    "## NAME : SONALI R\n",
    "## REG NO : 22MID0061\n",
    "## COURSE CODE : CSI3007\n",
    "## LAB : L27+L28\n",
    "## DATE : 02/08/2025"
   ]
  },
  {
   "cell_type": "markdown",
   "id": "4cb71d5c-a8bc-4a3d-914b-e95075911986",
   "metadata": {},
   "source": [
    "## Functions"
   ]
  },
  {
   "cell_type": "markdown",
   "id": "46d8455e-189e-4d48-9841-493ba810aad8",
   "metadata": {},
   "source": [
    "## 1. Passing Arguments - Positonal Arguments"
   ]
  },
  {
   "cell_type": "code",
   "execution_count": 2,
   "id": "834129e6-3c5a-4512-9ff5-057cc9d9a7f4",
   "metadata": {},
   "outputs": [
    {
     "name": "stdout",
     "output_type": "stream",
     "text": [
      "\n",
      " I have a pet Hamster.\n",
      "My Hamster's name is Harry.\n"
     ]
    }
   ],
   "source": [
    "def describe_pet(animal_type, pet_name):\n",
    "    \"\"\"Display information about a pet\"\"\"\n",
    "    print(f\"\\n I have a pet {animal_type}.\")\n",
    "    print(f\"My {animal_type}'s name is {pet_name.title()}.\")\n",
    "\n",
    "describe_pet(\"Hamster\",\"Harry\")  # function call"
   ]
  },
  {
   "cell_type": "markdown",
   "id": "078c3f19-98df-4209-81d4-80b20e10b88d",
   "metadata": {},
   "source": [
    "## 2.Multiple Function Call"
   ]
  },
  {
   "cell_type": "code",
   "execution_count": 3,
   "id": "ccd25b71-922a-4cf9-99af-75cbd9e4723d",
   "metadata": {},
   "outputs": [
    {
     "name": "stdout",
     "output_type": "stream",
     "text": [
      "\n",
      " I have a pet Hamster.\n",
      "My Hamster's name is Harry.\n",
      "\n",
      " I have a pet Dog.\n",
      "My Dog's name is Bruno.\n"
     ]
    }
   ],
   "source": [
    "def describe_pet(animal_type, pet_name):\n",
    "    \"\"\"Display information about a pet\"\"\"\n",
    "    print(f\"\\n I have a pet {animal_type}.\")\n",
    "    print(f\"My {animal_type}'s name is {pet_name.title()}.\")\n",
    "\n",
    "describe_pet(\"Hamster\",\"Harry\")  # function call\n",
    "describe_pet(\"Dog\",\"Bruno\") "
   ]
  },
  {
   "cell_type": "markdown",
   "id": "4ecbaac8-b2c7-40fa-9330-d4348c3f7eba",
   "metadata": {},
   "source": [
    "## 3. Order matters in positional Arguments"
   ]
  },
  {
   "cell_type": "code",
   "execution_count": 5,
   "id": "6683bd5d-ebaa-4904-8af8-4e0647d65a9d",
   "metadata": {},
   "outputs": [
    {
     "name": "stdout",
     "output_type": "stream",
     "text": [
      "\n",
      " I have a pet Harry.\n",
      "My Harry's name is Hamster.\n"
     ]
    }
   ],
   "source": [
    "def describe_pet(animal_type, pet_name):\n",
    "    \"\"\"Display information about a pet\"\"\"\n",
    "    print(f\"\\n I have a pet {animal_type}.\")\n",
    "    print(f\"My {animal_type}'s name is {pet_name.title()}.\")\n",
    "\n",
    "describe_pet(\"Harry\",\"Hamster\")  # function call"
   ]
  },
  {
   "cell_type": "markdown",
   "id": "01f8cc5b-8591-40cb-a77f-2f586c6efb10",
   "metadata": {},
   "source": [
    "## 4. Keyword Arguments"
   ]
  },
  {
   "cell_type": "code",
   "execution_count": 7,
   "id": "78145b22-a7a8-4a8e-8f9b-7faf25fa1613",
   "metadata": {},
   "outputs": [
    {
     "name": "stdout",
     "output_type": "stream",
     "text": [
      "\n",
      " I have a pet Hamster.\n",
      "My Hamster's name is Harry.\n"
     ]
    }
   ],
   "source": [
    "def describe_pet(animal_type, pet_name):\n",
    "    \"\"\"Display information about a pet\"\"\"\n",
    "    print(f\"\\n I have a pet {animal_type}.\")\n",
    "    print(f\"My {animal_type}'s name is {pet_name.title()}.\")\n",
    "\n",
    "describe_pet(animal_type = \"Hamster\",pet_name = \"Harry\") # function call"
   ]
  },
  {
   "cell_type": "markdown",
   "id": "763efe8e-a6d3-4468-b796-2e339b402b07",
   "metadata": {},
   "source": [
    "## 5. Default Values"
   ]
  },
  {
   "cell_type": "code",
   "execution_count": 64,
   "id": "86273da7-ea6c-4c88-a36c-2b5ed0f0edec",
   "metadata": {},
   "outputs": [
    {
     "name": "stdout",
     "output_type": "stream",
     "text": [
      "\n",
      " I have a pet dog.\n",
      "My dog's name is Bruno.\n"
     ]
    }
   ],
   "source": [
    "def describe_pet(pet_name, animal_type = \"dog\"):\n",
    "    \"\"\"Display information about a pet\"\"\"\n",
    "    print(f\"\\n I have a pet {animal_type}.\")\n",
    "    print(f\"My {animal_type}'s name is {pet_name.title()}.\")\n",
    "\n",
    "describe_pet(pet_name = \"Bruno\") # function call"
   ]
  },
  {
   "cell_type": "markdown",
   "id": "929a2dee-23e7-40c1-af8f-702314305079",
   "metadata": {},
   "source": [
    "## 6. Hence many ways to call a function"
   ]
  },
  {
   "cell_type": "code",
   "execution_count": 63,
   "id": "db3a02db-6f68-4af7-acc1-fd3bd780fc4a",
   "metadata": {},
   "outputs": [
    {
     "name": "stdout",
     "output_type": "stream",
     "text": [
      "\n",
      " I have a pet dog.\n",
      "My dog's name is Bruno.\n",
      "\n",
      " I have a pet Hamster.\n",
      "My Hamster's name is Harry.\n",
      "\n",
      " I have a pet Hamster.\n",
      "My Hamster's name is Harry.\n",
      "\n",
      " I have a pet Harry.\n",
      "My Harry's name is Hamster.\n"
     ]
    }
   ],
   "source": [
    "describe_pet(pet_name = \"Bruno\")\n",
    "describe_pet(animal_type = \"Hamster\",pet_name = \"Harry\")\n",
    "describe_pet(\"Harry\",\"Hamster\") \n",
    "describe_pet(\"Hamster\",animal_type=\"Harry\") "
   ]
  },
  {
   "cell_type": "markdown",
   "id": "fda27df9-c678-4c5f-b1a0-30c463fee134",
   "metadata": {},
   "source": [
    "## 7. Returning a simple value"
   ]
  },
  {
   "cell_type": "code",
   "execution_count": 18,
   "id": "d8e8d9bd-403a-4c7c-9a0b-629515725494",
   "metadata": {},
   "outputs": [
    {
     "name": "stdout",
     "output_type": "stream",
     "text": [
      "Jimi Hendrix\n"
     ]
    }
   ],
   "source": [
    "def get_formatted_name(first_name, last_name):\n",
    "    \"\"\"\"Return a full name, neatly formatted\"\"\"\n",
    "    full_name = f\"{first_name} {last_name}\"\n",
    "    return full_name.title()\n",
    "\n",
    "musician = get_formatted_name('jimi','hendrix')\n",
    "print(musician)"
   ]
  },
  {
   "cell_type": "markdown",
   "id": "2090e709-da1b-41ed-82b4-c1ff45647e59",
   "metadata": {},
   "source": [
    "## 8. Making an argument optional"
   ]
  },
  {
   "cell_type": "markdown",
   "id": "05c02976-e269-4e32-857a-2c41c056f39f",
   "metadata": {},
   "source": [
    "## 9. Returning a dictionary"
   ]
  },
  {
   "cell_type": "code",
   "execution_count": 21,
   "id": "dc8943e0-0231-44bb-ad7c-132f2685298c",
   "metadata": {},
   "outputs": [
    {
     "name": "stdout",
     "output_type": "stream",
     "text": [
      "Jimi Hendrix\n"
     ]
    }
   ],
   "source": [
    "#\n",
    "def get_formatted_name(first_name, last_name):\n",
    "    \"\"\"\"Return a full name, neatly formatted\"\"\"\n",
    "    full_name = f\"{first_name} {last_name}\"\n",
    "    return full_name.title()\n",
    "\n",
    "musician = get_formatted_name('jimi','hendrix')\n",
    "print(musician)"
   ]
  },
  {
   "cell_type": "markdown",
   "id": "a41078d8-6e95-4591-ad9c-2c7dac836902",
   "metadata": {},
   "source": [
    "## 10. Passing a list"
   ]
  },
  {
   "cell_type": "code",
   "execution_count": 60,
   "id": "3554c216-d6e5-4216-aecf-1205e807c888",
   "metadata": {},
   "outputs": [
    {
     "name": "stdout",
     "output_type": "stream",
     "text": [
      "Hello, Sonali\n",
      "Hello, Kamesh\n",
      "Hello, Anu\n",
      "Hello, Sudha\n"
     ]
    }
   ],
   "source": [
    "def greet_user(names):\n",
    "    # printing a list of elements\n",
    "    for name in names:\n",
    "        msg = f\"Hello, {name}\"\n",
    "        print(msg)\n",
    "\n",
    "names = ['Sonali','Kamesh','Anu','Sudha']\n",
    "greet_user(names)"
   ]
  },
  {
   "cell_type": "markdown",
   "id": "9ff5cad6-903b-4a07-9d20-8c4e2bf39010",
   "metadata": {},
   "source": [
    "## 11. Modifying a list"
   ]
  },
  {
   "cell_type": "markdown",
   "id": "010a1a84-e3cd-4354-89ca-37e088afcb95",
   "metadata": {},
   "source": [
    "## 12. Protecting a list from updates"
   ]
  },
  {
   "cell_type": "markdown",
   "id": "e719a295-843e-4e14-b8b4-1b3690206a6b",
   "metadata": {},
   "source": [
    "## 13. Passing an Arbitrary number of arguments"
   ]
  },
  {
   "cell_type": "code",
   "execution_count": 58,
   "id": "74361dd6-04bf-4be4-8fcc-98adc281c9ca",
   "metadata": {},
   "outputs": [
    {
     "name": "stdout",
     "output_type": "stream",
     "text": [
      "('pepperoni',)\n",
      "('pepperoni', 'mushrooms', 'green pepper', 'extra cheese')\n"
     ]
    }
   ],
   "source": [
    "def make_pizza(*toppings):\n",
    "    # printing n number of arguments\n",
    "    print(toppings)\n",
    "    \n",
    "make_pizza(\"pepperoni\")\n",
    "make_pizza(\"pepperoni\",\"mushrooms\", \"green pepper\",\"extra cheese\")"
   ]
  },
  {
   "cell_type": "markdown",
   "id": "c2328361-4537-4a6a-9bd6-248dde3bbc46",
   "metadata": {},
   "source": [
    "## 14. Mixing Positional and Arbitrary Arguments "
   ]
  },
  {
   "cell_type": "code",
   "execution_count": 56,
   "id": "08661a89-1355-4cfa-b3fa-348dae8682a6",
   "metadata": {},
   "outputs": [
    {
     "name": "stdout",
     "output_type": "stream",
     "text": [
      "\n",
      " Making a 16-inch pizza with the following toppings\n",
      "('pepperoni',)\n",
      "\n",
      " Making a 22-inch pizza with the following toppings\n",
      "('pepperoni', 'mushrooms', 'green pepper', 'extra cheese')\n",
      "('pepperoni', 'mushrooms', 'green pepper', 'extra cheese')\n",
      "('pepperoni', 'mushrooms', 'green pepper', 'extra cheese')\n",
      "('pepperoni', 'mushrooms', 'green pepper', 'extra cheese')\n"
     ]
    }
   ],
   "source": [
    "def make_pizza(size, *toppings):\n",
    "    # size is a postional and toppings is a keyword argument\n",
    "    print(f\"\\n Making a {size}-inch pizza with the following toppings\")\n",
    "    for topping in toppings:\n",
    "        print(toppings)\n",
    "    \n",
    "make_pizza(16,\"pepperoni\")\n",
    "make_pizza(22,\"pepperoni\",\"mushrooms\", \"green pepper\",\"extra cheese\")"
   ]
  },
  {
   "cell_type": "markdown",
   "id": "bd2f98be-d424-4efa-afe5-d1d8ae0375bd",
   "metadata": {},
   "source": [
    "## 15. Using Arbitrary Keyword Arguments"
   ]
  },
  {
   "cell_type": "code",
   "execution_count": 55,
   "id": "eff02cb6-f82a-4a7a-8c1d-58912ddc136c",
   "metadata": {},
   "outputs": [
    {
     "name": "stdout",
     "output_type": "stream",
     "text": [
      "{'location': 'princeton', 'field': 'physics', 'first_name': 'albert', 'last_name': 'einstein'}\n"
     ]
    }
   ],
   "source": [
    "def build_profile(first, last, **user_info):\n",
    "    # positional and keyword arguments returning a dict\n",
    "    user_info['first_name'] = first\n",
    "    user_info['last_name'] = last\n",
    "    return user_info\n",
    "\n",
    "user_profile = build_profile('albert','einstein',location='princeton',field='physics')\n",
    "print(user_profile)"
   ]
  },
  {
   "cell_type": "markdown",
   "id": "04b1c3c1-a636-4460-a725-26b5419812de",
   "metadata": {},
   "source": [
    "## 16. Storing your function in modules"
   ]
  },
  {
   "cell_type": "code",
   "execution_count": 29,
   "id": "510de6c1-ac13-423a-926f-b6292caacc01",
   "metadata": {},
   "outputs": [
    {
     "name": "stdout",
     "output_type": "stream",
     "text": [
      "Collecting nbimporter\n",
      "  Downloading nbimporter-0.3.4-py3-none-any.whl.metadata (252 bytes)\n",
      "Downloading nbimporter-0.3.4-py3-none-any.whl (4.9 kB)\n",
      "Installing collected packages: nbimporter\n",
      "Successfully installed nbimporter-0.3.4\n"
     ]
    }
   ],
   "source": [
    "!pip install nbimporter"
   ]
  },
  {
   "cell_type": "code",
   "execution_count": 38,
   "id": "b7497a04-3ccd-4dcf-ae19-b13e22c3061b",
   "metadata": {},
   "outputs": [
    {
     "name": "stdout",
     "output_type": "stream",
     "text": [
      "Collecting ipynb\n",
      "  Downloading ipynb-0.5.1-py3-none-any.whl.metadata (303 bytes)\n",
      "Downloading ipynb-0.5.1-py3-none-any.whl (6.9 kB)\n",
      "Installing collected packages: ipynb\n",
      "Successfully installed ipynb-0.5.1\n"
     ]
    }
   ],
   "source": [
    "!pip install ipynb"
   ]
  },
  {
   "cell_type": "code",
   "execution_count": 51,
   "id": "11ba2b46-4f33-451a-996c-bd663925f0dc",
   "metadata": {},
   "outputs": [
    {
     "name": "stdout",
     "output_type": "stream",
     "text": [
      "\n",
      " Making a 16-inch pizza with the following toppings\n",
      "-('pepperoni',)\n"
     ]
    }
   ],
   "source": [
    "from pizza import make_pizza\n",
    "make_pizza(16,'pepperoni')"
   ]
  },
  {
   "cell_type": "code",
   "execution_count": null,
   "id": "533b39d9-0fdb-4150-9d09-fb57496fb33e",
   "metadata": {},
   "outputs": [],
   "source": []
  }
 ],
 "metadata": {
  "kernelspec": {
   "display_name": "Python 3 (ipykernel)",
   "language": "python",
   "name": "python3"
  },
  "language_info": {
   "codemirror_mode": {
    "name": "ipython",
    "version": 3
   },
   "file_extension": ".py",
   "mimetype": "text/x-python",
   "name": "python",
   "nbconvert_exporter": "python",
   "pygments_lexer": "ipython3",
   "version": "3.12.4"
  }
 },
 "nbformat": 4,
 "nbformat_minor": 5
}
