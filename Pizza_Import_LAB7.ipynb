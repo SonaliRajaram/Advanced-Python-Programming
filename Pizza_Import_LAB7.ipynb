{
 "cells": [
  {
   "cell_type": "code",
   "execution_count": 1,
   "id": "7d8d0a86-5028-482a-ae65-1b470a040966",
   "metadata": {},
   "outputs": [
    {
     "name": "stdout",
     "output_type": "stream",
     "text": [
      "\n",
      " Making a 16-inch pizza with the following toppings\n",
      "-('pepperoni',)\n",
      "\n",
      " Making a 22-inch pizza with the following toppings\n",
      "-('pepperoni', 'mushrooms', 'green pepper', 'extra cheese')\n",
      "-('pepperoni', 'mushrooms', 'green pepper', 'extra cheese')\n",
      "-('pepperoni', 'mushrooms', 'green pepper', 'extra cheese')\n",
      "-('pepperoni', 'mushrooms', 'green pepper', 'extra cheese')\n"
     ]
    }
   ],
   "source": [
    "import pizza"
   ]
  },
  {
   "cell_type": "code",
   "execution_count": null,
   "id": "787a5e89-2e75-4fb7-9ae0-7844eb202de2",
   "metadata": {},
   "outputs": [],
   "source": []
  }
 ],
 "metadata": {
  "kernelspec": {
   "display_name": "Python 3 (ipykernel)",
   "language": "python",
   "name": "python3"
  },
  "language_info": {
   "codemirror_mode": {
    "name": "ipython",
    "version": 3
   },
   "file_extension": ".py",
   "mimetype": "text/x-python",
   "name": "python",
   "nbconvert_exporter": "python",
   "pygments_lexer": "ipython3",
   "version": "3.12.4"
  }
 },
 "nbformat": 4,
 "nbformat_minor": 5
}
