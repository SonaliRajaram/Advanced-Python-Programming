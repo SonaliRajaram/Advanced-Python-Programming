{
 "cells": [
  {
   "cell_type": "markdown",
   "id": "2982ebaf",
   "metadata": {},
   "source": [
    "## LAB ACTIVITY 13\n",
    "## NAME : SONALI R; REG NO : 22MID0061; COURSE CODE: CSI3007; LAB : L27+L28;\n",
    "## DATE : 12/09/2025"
   ]
  },
  {
   "cell_type": "markdown",
   "id": "91f35067",
   "metadata": {},
   "source": [
    "# 2. Handling EXCEL"
   ]
  },
  {
   "cell_type": "markdown",
   "id": "bc650fd7",
   "metadata": {},
   "source": [
    "## Read from an EXCEL file"
   ]
  },
  {
   "cell_type": "code",
   "execution_count": 7,
   "id": "3cec1788",
   "metadata": {},
   "outputs": [],
   "source": [
    "import pandas as pd\n",
    "\n",
    "#Read the Excel file into a DataFrame\n",
    "df = pd.read_excel('Orders.xlsx', sheet_name = \"Orders\") #Use the read_excel() function to import your data."
   ]
  },
  {
   "cell_type": "code",
   "execution_count": 8,
   "id": "2028a3ba",
   "metadata": {},
   "outputs": [
    {
     "name": "stdout",
     "output_type": "stream",
     "text": [
      "   Row ID        Order ID Order Date  Ship Date       Ship Mode Customer ID  \\\n",
      "0       1  CA-2016-152156 2016-11-08 2016-11-11    Second Class    CG-12520   \n",
      "1       2  CA-2016-152156 2016-11-08 2016-11-11    Second Class    CG-12520   \n",
      "2       3  CA-2016-138688 2016-06-12 2016-06-16    Second Class    DV-13045   \n",
      "3       4  US-2015-108966 2015-10-11 2015-10-18  Standard Class    SO-20335   \n",
      "4       5  US-2015-108966 2015-10-11 2015-10-18  Standard Class    SO-20335   \n",
      "\n",
      "     Customer Name    Segment        Country             City  ...  \\\n",
      "0      Claire Gute   Consumer  United States        Henderson  ...   \n",
      "1      Claire Gute   Consumer  United States        Henderson  ...   \n",
      "2  Darrin Van Huff  Corporate  United States      Los Angeles  ...   \n",
      "3   Sean O'Donnell   Consumer  United States  Fort Lauderdale  ...   \n",
      "4   Sean O'Donnell   Consumer  United States  Fort Lauderdale  ...   \n",
      "\n",
      "  Postal Code  Region       Product ID         Category Sub-Category  \\\n",
      "0       42420   South  FUR-BO-10001798        Furniture    Bookcases   \n",
      "1       42420   South  FUR-CH-10000454        Furniture       Chairs   \n",
      "2       90036    West  OFF-LA-10000240  Office Supplies       Labels   \n",
      "3       33311   South  FUR-TA-10000577        Furniture       Tables   \n",
      "4       33311   South  OFF-ST-10000760  Office Supplies      Storage   \n",
      "\n",
      "                                        Product Name     Sales  Quantity  \\\n",
      "0                  Bush Somerset Collection Bookcase  261.9600         2   \n",
      "1  Hon Deluxe Fabric Upholstered Stacking Chairs,...  731.9400         3   \n",
      "2  Self-Adhesive Address Labels for Typewriters b...   14.6200         2   \n",
      "3      Bretford CR4500 Series Slim Rectangular Table  957.5775         5   \n",
      "4                     Eldon Fold 'N Roll Cart System   22.3680         2   \n",
      "\n",
      "   Discount    Profit  \n",
      "0      0.00   41.9136  \n",
      "1      0.00  219.5820  \n",
      "2      0.00    6.8714  \n",
      "3      0.45 -383.0310  \n",
      "4      0.20    2.5164  \n",
      "\n",
      "[5 rows x 21 columns]\n"
     ]
    }
   ],
   "source": [
    "print(df.head()) # Displays first 5 rows"
   ]
  },
  {
   "cell_type": "code",
   "execution_count": 9,
   "id": "71bbd147",
   "metadata": {},
   "outputs": [
    {
     "name": "stdout",
     "output_type": "stream",
     "text": [
      "            Row ID                     Order Date  \\\n",
      "count  9994.000000                           9994   \n",
      "mean   4997.500000  2016-04-30 00:07:12.259355648   \n",
      "min       1.000000            2014-01-03 00:00:00   \n",
      "25%    2499.250000            2015-05-23 00:00:00   \n",
      "50%    4997.500000            2016-06-26 00:00:00   \n",
      "75%    7495.750000            2017-05-14 00:00:00   \n",
      "max    9994.000000            2017-12-30 00:00:00   \n",
      "std    2885.163629                            NaN   \n",
      "\n",
      "                           Ship Date   Postal Code         Sales     Quantity  \\\n",
      "count                           9994   9994.000000   9994.000000  9994.000000   \n",
      "mean   2016-05-03 23:06:58.571142912  55190.379428    229.858001     3.789574   \n",
      "min              2014-01-07 00:00:00   1040.000000      0.444000     1.000000   \n",
      "25%              2015-05-27 00:00:00  23223.000000     17.280000     2.000000   \n",
      "50%              2016-06-29 00:00:00  56430.500000     54.490000     3.000000   \n",
      "75%              2017-05-18 00:00:00  90008.000000    209.940000     5.000000   \n",
      "max              2018-01-05 00:00:00  99301.000000  22638.480000    14.000000   \n",
      "std                              NaN  32063.693350    623.245101     2.225110   \n",
      "\n",
      "          Discount       Profit  \n",
      "count  9994.000000  9994.000000  \n",
      "mean      0.156203    28.656896  \n",
      "min       0.000000 -6599.978000  \n",
      "25%       0.000000     1.728750  \n",
      "50%       0.200000     8.666500  \n",
      "75%       0.200000    29.364000  \n",
      "max       0.800000  8399.976000  \n",
      "std       0.206452   234.260108  \n"
     ]
    }
   ],
   "source": [
    "print(df.describe()) # Displays the statistics"
   ]
  },
  {
   "cell_type": "code",
   "execution_count": 10,
   "id": "7211cb44",
   "metadata": {},
   "outputs": [
    {
     "name": "stdout",
     "output_type": "stream",
     "text": [
      "(9994, 21)\n"
     ]
    }
   ],
   "source": [
    "print(df.shape) # Displays the row and column"
   ]
  },
  {
   "cell_type": "code",
   "execution_count": 12,
   "id": "ae277b46",
   "metadata": {},
   "outputs": [
    {
     "name": "stdout",
     "output_type": "stream",
     "text": [
      "<class 'pandas.core.frame.DataFrame'>\n",
      "RangeIndex: 9994 entries, 0 to 9993\n",
      "Data columns (total 21 columns):\n",
      " #   Column         Non-Null Count  Dtype         \n",
      "---  ------         --------------  -----         \n",
      " 0   Row ID         9994 non-null   int64         \n",
      " 1   Order ID       9994 non-null   object        \n",
      " 2   Order Date     9994 non-null   datetime64[ns]\n",
      " 3   Ship Date      9994 non-null   datetime64[ns]\n",
      " 4   Ship Mode      9994 non-null   object        \n",
      " 5   Customer ID    9994 non-null   object        \n",
      " 6   Customer Name  9994 non-null   object        \n",
      " 7   Segment        9994 non-null   object        \n",
      " 8   Country        9994 non-null   object        \n",
      " 9   City           9994 non-null   object        \n",
      " 10  State          9994 non-null   object        \n",
      " 11  Postal Code    9994 non-null   int64         \n",
      " 12  Region         9994 non-null   object        \n",
      " 13  Product ID     9994 non-null   object        \n",
      " 14  Category       9994 non-null   object        \n",
      " 15  Sub-Category   9994 non-null   object        \n",
      " 16  Product Name   9994 non-null   object        \n",
      " 17  Sales          9994 non-null   float64       \n",
      " 18  Quantity       9994 non-null   int64         \n",
      " 19  Discount       9994 non-null   float64       \n",
      " 20  Profit         9994 non-null   float64       \n",
      "dtypes: datetime64[ns](2), float64(3), int64(3), object(13)\n",
      "memory usage: 1.6+ MB\n",
      "None\n"
     ]
    }
   ],
   "source": [
    "print(df.info()) # Statistical Information about Excel file"
   ]
  },
  {
   "cell_type": "markdown",
   "id": "24f72de6",
   "metadata": {},
   "source": [
    "## Extract the contents"
   ]
  },
  {
   "cell_type": "code",
   "execution_count": 14,
   "id": "95ceb798",
   "metadata": {},
   "outputs": [
    {
     "name": "stdout",
     "output_type": "stream",
     "text": [
      "      Row ID        Order ID Order Date  Ship Date       Ship Mode  \\\n",
      "251      252  CA-2016-145625 2016-09-11 2016-09-17  Standard Class   \n",
      "392      393  US-2014-135972 2014-09-21 2014-09-23    Second Class   \n",
      "515      516  CA-2017-127432 2017-01-22 2017-01-27  Standard Class   \n",
      "814      815  CA-2017-143686 2017-05-14 2017-05-14        Same Day   \n",
      "1625    1626  CA-2015-157084 2015-12-19 2015-12-24  Standard Class   \n",
      "1644    1645  CA-2015-111829 2015-03-19 2015-03-20     First Class   \n",
      "1711    1712  CA-2017-123491 2017-10-30 2017-11-05  Standard Class   \n",
      "3273    3274  CA-2017-133865 2017-05-08 2017-05-12  Standard Class   \n",
      "3570    3571  CA-2017-168109 2017-07-03 2017-07-03        Same Day   \n",
      "3628    3629  CA-2014-169726 2014-08-09 2014-08-13  Standard Class   \n",
      "3983    3984  CA-2016-135265 2016-07-07 2016-07-09    Second Class   \n",
      "4619    4620  CA-2017-145219 2017-12-24 2017-12-25     First Class   \n",
      "5425    5426  CA-2016-153598 2016-12-03 2016-12-06     First Class   \n",
      "5990    5991  US-2017-163300 2017-09-15 2017-09-21  Standard Class   \n",
      "6209    6210  CA-2017-119809 2017-08-18 2017-08-25  Standard Class   \n",
      "6631    6632  CA-2016-105081 2016-12-25 2016-12-30  Standard Class   \n",
      "6817    6818  CA-2014-144414 2014-06-17 2014-06-21  Standard Class   \n",
      "6901    6902  US-2017-135013 2017-07-24 2017-07-24        Same Day   \n",
      "7818    7819  CA-2016-138478 2016-10-21 2016-10-26    Second Class   \n",
      "7937    7938  CA-2017-166093 2017-08-17 2017-08-24  Standard Class   \n",
      "8153    8154  CA-2017-140151 2017-03-23 2017-03-25     First Class   \n",
      "8301    8302  US-2017-167318 2017-07-26 2017-08-01  Standard Class   \n",
      "8858    8859  CA-2017-135909 2017-10-13 2017-10-20  Standard Class   \n",
      "9165    9166  CA-2016-100300 2016-06-24 2016-06-26    Second Class   \n",
      "9490    9491  CA-2017-111738 2017-01-03 2017-01-07  Standard Class   \n",
      "9615    9616  CA-2014-128524 2014-11-11 2014-11-13     First Class   \n",
      "9857    9858  CA-2015-164301 2015-03-26 2015-03-30  Standard Class   \n",
      "9929    9930  CA-2016-129630 2016-09-04 2016-09-04        Same Day   \n",
      "\n",
      "     Customer ID         Customer Name      Segment        Country  \\\n",
      "251     KC-16540       Kelly Collister     Consumer  United States   \n",
      "392     JG-15115            Jack Garza     Consumer  United States   \n",
      "515     AD-10180        Alan Dominguez  Home Office  United States   \n",
      "814     PJ-19015       Pauline Johnson     Consumer  United States   \n",
      "1625    JG-15160          James Galang     Consumer  United States   \n",
      "1644    FH-14365          Fred Hopkins    Corporate  United States   \n",
      "1711    JK-15205          Jamie Kunitz     Consumer  United States   \n",
      "3273    PS-19045       Penelope Sewall  Home Office  United States   \n",
      "3570    JK-15640              Jim Kriz  Home Office  United States   \n",
      "3628    JH-15985           Joseph Holt     Consumer  United States   \n",
      "3983    CC-12370    Christopher Conant     Consumer  United States   \n",
      "4619    RM-19675         Robert Marley  Home Office  United States   \n",
      "5425    NM-18520          Neoma Murray     Consumer  United States   \n",
      "5990    ES-14020           Erica Smith     Consumer  United States   \n",
      "6209    YS-21880         Yana Sorensen    Corporate  United States   \n",
      "6631    JE-15715            Joe Elijah     Consumer  United States   \n",
      "6817    GH-14425            Gary Hwang     Consumer  United States   \n",
      "6901    HR-14830           Harold Ryan    Corporate  United States   \n",
      "7818    DP-13390         Dennis Pardue  Home Office  United States   \n",
      "7937    RW-19540           Rick Wilson    Corporate  United States   \n",
      "8153    RB-19360          Raymond Buch     Consumer  United States   \n",
      "8301    GZ-14545       George Zrebassa    Corporate  United States   \n",
      "8858    JW-15220             Jane Waco    Corporate  United States   \n",
      "9165    MJ-17740             Max Jones     Consumer  United States   \n",
      "9490    CM-12385  Christopher Martinez     Consumer  United States   \n",
      "9615    MZ-17515             Mary Zewe    Corporate  United States   \n",
      "9857    EB-13840         Ellis Ballard    Corporate  United States   \n",
      "9929    IM-15055         Ionia McGrath     Consumer  United States   \n",
      "\n",
      "                  City  ... Postal Code  Region       Product ID  \\\n",
      "251          San Diego  ...       92037    West  TEC-AC-10003832   \n",
      "392         Des Moines  ...       98198    West  TEC-CO-10002313   \n",
      "515        Great Falls  ...       59405    West  TEC-CO-10003236   \n",
      "814          Santa Ana  ...       92704    West  TEC-AC-10001838   \n",
      "1625       Los Angeles  ...       90049    West  TEC-AC-10002049   \n",
      "1644           Seattle  ...       98115    West  TEC-CO-10001766   \n",
      "1711     San Francisco  ...       94122    West  OFF-AP-10002684   \n",
      "3273       Los Angeles  ...       90032    West  TEC-CO-10001046   \n",
      "3570           Seattle  ...       98105    West  TEC-AC-10002049   \n",
      "3628           Seattle  ...       98103    West  OFF-BI-10004600   \n",
      "3983       Los Angeles  ...       90045    West  TEC-CO-10003763   \n",
      "4619       Los Angeles  ...       90049    West  TEC-CO-10001449   \n",
      "5425       Los Angeles  ...       90045    West  TEC-AC-10003870   \n",
      "5990       Los Angeles  ...       90049    West  OFF-BI-10004390   \n",
      "6209           Seattle  ...       98103    West  OFF-BI-10003925   \n",
      "6631           Seattle  ...       98115    West  FUR-TA-10001307   \n",
      "6817           Seattle  ...       98105    West  OFF-BI-10004995   \n",
      "6901  Huntington Beach  ...       92646    West  TEC-CO-10001449   \n",
      "7818   North Las Vegas  ...       89031    West  OFF-BI-10001120   \n",
      "7937         Brentwood  ...       94513    West  OFF-AP-10001058   \n",
      "8153           Seattle  ...       98115    West  TEC-CO-10004722   \n",
      "8301       Los Angeles  ...       90036    West  TEC-AC-10003870   \n",
      "8858        Sacramento  ...       95823    West  OFF-BI-10003527   \n",
      "9165         San Diego  ...       92037    West  TEC-MA-10000984   \n",
      "9490     San Francisco  ...       94110    West  OFF-BI-10004584   \n",
      "9615           Seattle  ...       98115    West  OFF-BI-10003527   \n",
      "9857           Seattle  ...       98103    West  FUR-TA-10001889   \n",
      "9929     San Francisco  ...       94122    West  TEC-CO-10003763   \n",
      "\n",
      "             Category Sub-Category  \\\n",
      "251        Technology  Accessories   \n",
      "392        Technology      Copiers   \n",
      "515        Technology      Copiers   \n",
      "814        Technology  Accessories   \n",
      "1625       Technology  Accessories   \n",
      "1644       Technology      Copiers   \n",
      "1711  Office Supplies   Appliances   \n",
      "3273       Technology      Copiers   \n",
      "3570       Technology  Accessories   \n",
      "3628  Office Supplies      Binders   \n",
      "3983       Technology      Copiers   \n",
      "4619       Technology      Copiers   \n",
      "5425       Technology  Accessories   \n",
      "5990  Office Supplies      Binders   \n",
      "6209  Office Supplies      Binders   \n",
      "6631        Furniture       Tables   \n",
      "6817  Office Supplies      Binders   \n",
      "6901       Technology      Copiers   \n",
      "7818  Office Supplies      Binders   \n",
      "7937  Office Supplies   Appliances   \n",
      "8153       Technology      Copiers   \n",
      "8301       Technology  Accessories   \n",
      "8858  Office Supplies      Binders   \n",
      "9165       Technology     Machines   \n",
      "9490  Office Supplies      Binders   \n",
      "9615  Office Supplies      Binders   \n",
      "9857        Furniture       Tables   \n",
      "9929       Technology      Copiers   \n",
      "\n",
      "                                           Product Name      Sales  Quantity  \\\n",
      "251                  Logitech P710e Mobile Speakerphone   3347.370        13   \n",
      "392                       Canon PC1080F Personal Copier   1799.970         3   \n",
      "515                       Canon Image Class D660 Copier   2999.950         5   \n",
      "814   Razer Tiamat Over Ear 7.1 Surround Sound PC Ga...   1399.930         7   \n",
      "1625  Plantronics Savi W720 Multi-Device Wireless He...   1265.850         3   \n",
      "1644                                 Canon PC940 Copier   3149.930         7   \n",
      "1711  Acco 7-Outlet Masterpiece Power Center, Wihtou...   1702.120        14   \n",
      "3273                 Canon Imageclass D680 Copier / Fax   3359.952         6   \n",
      "3570  Plantronics Savi W720 Multi-Device Wireless He...   1687.800         4   \n",
      "3628          Ibico Ibimaster 300 Manual Binding System   2060.744         7   \n",
      "3983                 Canon PC1060 Personal Laser Copier   2799.960         5   \n",
      "4619               Hewlett Packard LaserJet 3310 Copier   2879.952         6   \n",
      "5425  Logitech Z-906 Speaker sys - home theater - 5....   1649.950         5   \n",
      "5990            GBC DocuBind 200 Manual Binding Machine   2357.488         7   \n",
      "6209        Fellowes PB300 Plastic Comb Binding Machine   2793.528         9   \n",
      "6631  SAFCO PlanMaster Heigh-Adjustable Drafting Tab...   1747.250         5   \n",
      "6817          GBC DocuBind P400 Electric Binding System   3266.376         3   \n",
      "6901               Hewlett Packard LaserJet 3310 Copier   2399.960         5   \n",
      "7818               Ibico EPK-21 Electric Binding System   4535.976         3   \n",
      "7937  Sanyo 2.5 Cubic Foot Mid-Size Office Refrigera...   2518.290         9   \n",
      "8153              Canon imageCLASS 2200 Advanced Copier  13999.960         4   \n",
      "8301  Logitech Z-906 Speaker sys - home theater - 5....   1649.950         5   \n",
      "8858  Fellowes PB500 Electric Punch Plastic Comb Bin...   5083.960         5   \n",
      "9165                              Okidata MB760 Printer   4476.800         4   \n",
      "9490       GBC ProClick 150 Presentation Binding System   2022.272         8   \n",
      "9615  Fellowes PB500 Electric Punch Plastic Comb Bin...   2033.584         2   \n",
      "9857  Bush Advantage Collection Racetrack Conference...   3393.680         8   \n",
      "9929                 Canon PC1060 Personal Laser Copier   2799.960         5   \n",
      "\n",
      "      Discount     Profit  \n",
      "251        0.0   636.0003  \n",
      "392        0.0   701.9883  \n",
      "515        0.0  1379.9770  \n",
      "814        0.0   601.9699  \n",
      "1625       0.0   556.9740  \n",
      "1644       0.0  1480.4671  \n",
      "1711       0.0   510.6360  \n",
      "3273       0.2  1049.9850  \n",
      "3570       0.0   742.6320  \n",
      "3628       0.2   643.9825  \n",
      "3983       0.2   944.9865  \n",
      "4619       0.2  1007.9832  \n",
      "5425       0.0   659.9800  \n",
      "5990       0.2   884.0580  \n",
      "6209       0.2   942.8157  \n",
      "6631       0.0   629.0100  \n",
      "6817       0.2  1061.5722  \n",
      "6901       0.2   839.9860  \n",
      "7818       0.2  1644.2913  \n",
      "7937       0.0   654.7554  \n",
      "8153       0.0  6719.9808  \n",
      "8301       0.0   659.9800  \n",
      "8858       0.2  1906.4850  \n",
      "9165       0.2   503.6400  \n",
      "9490       0.2   682.5168  \n",
      "9615       0.2   762.5940  \n",
      "9857       0.0   610.8624  \n",
      "9929       0.2   944.9865  \n",
      "\n",
      "[28 rows x 21 columns]\n"
     ]
    }
   ],
   "source": [
    "# Extracting high-profit orders in a specific region\n",
    "high_profit_west_df = df[(df['Region'] == 'West') & (df['Profit'] > 500)]\n",
    "print(high_profit_west_df)"
   ]
  },
  {
   "cell_type": "markdown",
   "id": "e1b2ae3d",
   "metadata": {},
   "source": [
    "## Write the output of a Query into an EXCEL File"
   ]
  },
  {
   "cell_type": "code",
   "execution_count": 20,
   "id": "3e3d80be",
   "metadata": {},
   "outputs": [],
   "source": [
    "# Write the query results to a new Excel file\n",
    "output_file = 'high_profit_west_region.xlsx'\n",
    "high_profit_west_df.to_excel(output_file, index=False)"
   ]
  },
  {
   "cell_type": "code",
   "execution_count": 21,
   "id": "f729fb4e",
   "metadata": {},
   "outputs": [],
   "source": [
    "data = pd.read_excel('high_profit_west_region.xlsx')"
   ]
  },
  {
   "cell_type": "code",
   "execution_count": 22,
   "id": "b34ebe3d",
   "metadata": {},
   "outputs": [
    {
     "name": "stdout",
     "output_type": "stream",
     "text": [
      "   Row ID        Order ID Order Date  Ship Date       Ship Mode Customer ID  \\\n",
      "0     252  CA-2016-145625 2016-09-11 2016-09-17  Standard Class    KC-16540   \n",
      "1     393  US-2014-135972 2014-09-21 2014-09-23    Second Class    JG-15115   \n",
      "2     516  CA-2017-127432 2017-01-22 2017-01-27  Standard Class    AD-10180   \n",
      "3     815  CA-2017-143686 2017-05-14 2017-05-14        Same Day    PJ-19015   \n",
      "4    1626  CA-2015-157084 2015-12-19 2015-12-24  Standard Class    JG-15160   \n",
      "\n",
      "     Customer Name      Segment        Country         City  ... Postal Code  \\\n",
      "0  Kelly Collister     Consumer  United States    San Diego  ...       92037   \n",
      "1       Jack Garza     Consumer  United States   Des Moines  ...       98198   \n",
      "2   Alan Dominguez  Home Office  United States  Great Falls  ...       59405   \n",
      "3  Pauline Johnson     Consumer  United States    Santa Ana  ...       92704   \n",
      "4     James Galang     Consumer  United States  Los Angeles  ...       90049   \n",
      "\n",
      "   Region       Product ID    Category Sub-Category  \\\n",
      "0    West  TEC-AC-10003832  Technology  Accessories   \n",
      "1    West  TEC-CO-10002313  Technology      Copiers   \n",
      "2    West  TEC-CO-10003236  Technology      Copiers   \n",
      "3    West  TEC-AC-10001838  Technology  Accessories   \n",
      "4    West  TEC-AC-10002049  Technology  Accessories   \n",
      "\n",
      "                                        Product Name    Sales  Quantity  \\\n",
      "0                 Logitech P710e Mobile Speakerphone  3347.37        13   \n",
      "1                      Canon PC1080F Personal Copier  1799.97         3   \n",
      "2                      Canon Image Class D660 Copier  2999.95         5   \n",
      "3  Razer Tiamat Over Ear 7.1 Surround Sound PC Ga...  1399.93         7   \n",
      "4  Plantronics Savi W720 Multi-Device Wireless He...  1265.85         3   \n",
      "\n",
      "   Discount     Profit  \n",
      "0       0.0   636.0003  \n",
      "1       0.0   701.9883  \n",
      "2       0.0  1379.9770  \n",
      "3       0.0   601.9699  \n",
      "4       0.0   556.9740  \n",
      "\n",
      "[5 rows x 21 columns]\n"
     ]
    }
   ],
   "source": [
    "# Display the first 5 rows of Output file extracted from the query\n",
    "print(data.head())"
   ]
  },
  {
   "cell_type": "markdown",
   "id": "7211b55d",
   "metadata": {},
   "source": [
    "## Append to an Excel file"
   ]
  },
  {
   "cell_type": "code",
   "execution_count": 25,
   "id": "3c3bea16",
   "metadata": {},
   "outputs": [],
   "source": [
    "# Create a small DataFrame with new order data to append\n",
    "new_order_data = {'Row ID': [9995], 'Order ID': ['CA-2025-123456'], 'Order Date': ['2025-09-12'],\n",
    "                  'Ship Date': ['2025-09-16'], 'Ship Mode': ['Standard Class'], 'Customer ID': ['CH-12070'],\n",
    "                  'Customer Name': ['Chris H'], 'Segment': ['Consumer'], 'Country': ['United States'],\n",
    "                  'City': ['Los Angeles'], 'State': ['California'], 'Postal Code': [90001],\n",
    "                  'Region': ['West'], 'Product ID': ['OFF-LA-10000001'], 'Category': ['Office Supplies'],\n",
    "                  'Sub-Category': ['Labels'], 'Product Name': ['Colored Labels'], 'Sales': [15.50],\n",
    "                  'Quantity': [1], 'Discount': [0.0], 'Profit': [7.05]}\n",
    "new_orders_df = pd.DataFrame(new_order_data)"
   ]
  },
  {
   "cell_type": "code",
   "execution_count": 62,
   "id": "4782a96d",
   "metadata": {},
   "outputs": [
    {
     "name": "stdout",
     "output_type": "stream",
     "text": [
      "An error occurred: File is not a zip file\n"
     ]
    }
   ],
   "source": [
    "import pandas as pd\n",
    "import os\n",
    "\n",
    "# Define the file path\n",
    "file_path = 'Orders.xlsx'\n",
    "\n",
    "# Create a small DataFrame with new order data to append\n",
    "# Ensure the column names and data types match your existing file\n",
    "new_order_data = {'Row ID': [1], 'Order ID': ['US-2025-987654'], 'Order Date': ['2025-09-12'],\n",
    "                  'Ship Date': ['2025-09-16'], 'Ship Mode': ['Standard Class'], 'Customer ID': ['ZZ-99999'],\n",
    "                  'Customer Name': ['Zoe Z'], 'Segment': ['Consumer'], 'Country': ['United States'],\n",
    "                  'City': ['Seattle'], 'State': ['Washington'], 'Postal Code': [98101],\n",
    "                  'Region': ['West'], 'Product ID': ['OFF-PA-10000123'], 'Category': ['Office Supplies'],\n",
    "                  'Sub-Category': ['Paper'], 'Product Name': ['Premium Copy Paper'], 'Sales': [25.00],\n",
    "                  'Quantity': [2], 'Discount': [0.0], 'Profit': [10.00]}\n",
    "new_orders_df = pd.DataFrame(new_order_data)\n",
    "\n",
    "# --- Simple Append Logic ---\n",
    "try:\n",
    "    # Check if the file exists and has data\n",
    "    if os.path.exists(file_path) and os.path.getsize(file_path) > 0:\n",
    "        # 1. Read the entire existing Excel file into a DataFrame\n",
    "        existing_df = pd.read_excel(file_path)\n",
    "\n",
    "        # 2. Concatenate the existing DataFrame and the new DataFrame\n",
    "        combined_df = pd.concat([existing_df, new_orders_df], ignore_index=True)\n",
    "\n",
    "        # 3. Write the combined DataFrame back to the same Excel file, overwriting it\n",
    "        combined_df.to_excel(file_path, index=False)\n",
    "        \n",
    "        print(f\"Successfully appended new data and updated '{file_path}'.\")\n",
    "    else:\n",
    "        # If the file does not exist or is empty, just save the new data\n",
    "        new_orders_df.to_excel(file_path, index=False)\n",
    "        print(f\"Created a new file '{file_path}' and wrote the new data.\")\n",
    "\n",
    "except Exception as e:\n",
    "    print(f\"An error occurred: {e}\")\n"
   ]
  },
  {
   "cell_type": "markdown",
   "id": "a21577d0",
   "metadata": {},
   "source": [
    "# 4. Creating Numpy Arrays"
   ]
  },
  {
   "cell_type": "code",
   "execution_count": 29,
   "id": "98588302",
   "metadata": {},
   "outputs": [
    {
     "name": "stdout",
     "output_type": "stream",
     "text": [
      "[[1 2 3]\n",
      " [4 5 6]]\n"
     ]
    }
   ],
   "source": [
    "import numpy as np\n",
    "arr = np.array([[1, 2, 3], [4, 5, 6]]) # Creating a 2-D Array\n",
    "print(arr) "
   ]
  },
  {
   "cell_type": "code",
   "execution_count": 30,
   "id": "f86ac93c",
   "metadata": {},
   "outputs": [
    {
     "name": "stdout",
     "output_type": "stream",
     "text": [
      "6\n"
     ]
    }
   ],
   "source": [
    "print(arr.size) # Displays the number of elements in a array"
   ]
  },
  {
   "cell_type": "code",
   "execution_count": 31,
   "id": "0c2e9a93",
   "metadata": {},
   "outputs": [
    {
     "name": "stdout",
     "output_type": "stream",
     "text": [
      "(2, 3)\n"
     ]
    }
   ],
   "source": [
    "print(arr.shape) # Display the rows and columns"
   ]
  },
  {
   "cell_type": "code",
   "execution_count": 32,
   "id": "c7bc85b8",
   "metadata": {},
   "outputs": [
    {
     "name": "stdout",
     "output_type": "stream",
     "text": [
      "2\n"
     ]
    }
   ],
   "source": [
    "print(arr.ndim) # Displays the dimension of array"
   ]
  },
  {
   "cell_type": "code",
   "execution_count": 33,
   "id": "99f9ce87",
   "metadata": {},
   "outputs": [
    {
     "name": "stdout",
     "output_type": "stream",
     "text": [
      "Original array: [1 2 3 4 5 6]\n",
      "Original shape: (6,)\n"
     ]
    }
   ],
   "source": [
    "# Create a 1D array\n",
    "arr = np.array([1, 2, 3, 4, 5, 6])\n",
    "print(\"Original array:\", arr)\n",
    "print(\"Original shape:\", arr.shape)"
   ]
  },
  {
   "cell_type": "code",
   "execution_count": 35,
   "id": "fc0b4de5",
   "metadata": {},
   "outputs": [
    {
     "name": "stdout",
     "output_type": "stream",
     "text": [
      "[[1 2 3]\n",
      " [4 5 6]]\n",
      "New shape: (2, 3)\n"
     ]
    }
   ],
   "source": [
    "# Reshape to a 2D array (2 rows, 3 columns)\n",
    "reshaped_arr = arr.reshape(2, 3) # Reshape a 1-D array to 2-D array\n",
    "print(reshaped_arr)\n",
    "print(\"New shape:\", reshaped_arr.shape)"
   ]
  },
  {
   "cell_type": "code",
   "execution_count": 37,
   "id": "4a92186b",
   "metadata": {},
   "outputs": [
    {
     "data": {
      "text/plain": [
       "array([  0,   2,  12,  36,  80, 150, 252, 392, 576, 810])"
      ]
     },
     "execution_count": 37,
     "metadata": {},
     "output_type": "execute_result"
    }
   ],
   "source": [
    "import numpy as np\n",
    "def numpysum(n):\n",
    "  a = np.arange(n) ** 2  #Creates an array [0,1,..n-1] and element-wise sqauring\n",
    "  b = np.arange(n) ** 3\n",
    "  c = a + b #element wise adding - NO LOOP Overhead, hence Memory Efficient\n",
    "  return c\n",
    "\n",
    "numpysum(10) # function call"
   ]
  },
  {
   "cell_type": "code",
   "execution_count": 38,
   "id": "ff6ca1e8",
   "metadata": {},
   "outputs": [
    {
     "name": "stdout",
     "output_type": "stream",
     "text": [
      "[1 2 3 4]\n"
     ]
    }
   ],
   "source": [
    "#Creating Arrays from Sequences\n",
    "#a list of numbers will create a 1D array,\n",
    "a1D = np.array([1, 2, 3, 4])\n",
    "print(a1D)"
   ]
  },
  {
   "cell_type": "code",
   "execution_count": 39,
   "id": "3072b791",
   "metadata": {},
   "outputs": [
    {
     "name": "stdout",
     "output_type": "stream",
     "text": [
      "[[1 2]\n",
      " [3 4]]\n"
     ]
    }
   ],
   "source": [
    "#a list of lists will create a 2D array\n",
    "a2D = np.array([[1, 2], [3, 4]])\n",
    "print(a2D)"
   ]
  },
  {
   "cell_type": "code",
   "execution_count": 40,
   "id": "a1edc2a1",
   "metadata": {},
   "outputs": [
    {
     "name": "stdout",
     "output_type": "stream",
     "text": [
      "[[[1 2]\n",
      "  [3 4]]\n",
      "\n",
      " [[5 6]\n",
      "  [7 8]]]\n"
     ]
    }
   ],
   "source": [
    "#further nested lists will create higher-dimensional arrays. \n",
    "#In general, any array object is called an ndarray in NumPy.\n",
    "a3D = np.array([[[1, 2], [3, 4]], [[5, 6], [7, 8]]])\n",
    "print(a3D)"
   ]
  },
  {
   "cell_type": "code",
   "execution_count": 41,
   "id": "0aefa3d9",
   "metadata": {},
   "outputs": [
    {
     "data": {
      "text/plain": [
       "array([127, 128, 129], dtype=int32)"
      ]
     },
     "execution_count": 41,
     "metadata": {},
     "output_type": "execute_result"
    }
   ],
   "source": [
    "import numpy as np\n",
    "np.array([127, 128, 129], dtype=np.int32) "
   ]
  },
  {
   "cell_type": "markdown",
   "id": "fcc5d499",
   "metadata": {},
   "source": [
    "| Name       | Alias(es)       | Size   | Range                           |\n",
    "| ---------- | --------------- | ------ | ------------------------------- |\n",
    "| `np.int8`  | `int8`          | 8-bit  | −128 to 127                     |\n",
    "| `np.int16` | `int16`         | 16-bit | −32,768 to 32,767               |\n",
    "| `np.int32` | `int32`, `int_` | 32-bit | −2,147,483,648 to 2,147,483,647 |\n",
    "| `np.int64` | `int64`         | 64-bit | −9.2e18 to 9.2e18 (approx.)     |\n"
   ]
  },
  {
   "cell_type": "code",
   "execution_count": 43,
   "id": "83e73264",
   "metadata": {},
   "outputs": [
    {
     "name": "stderr",
     "output_type": "stream",
     "text": [
      "/tmp/ipykernel_77742/720755805.py:2: DeprecationWarning: NumPy will stop allowing conversion of out-of-bound Python integers to integer arrays.  The conversion of 128 to int8 will fail in the future.\n",
      "For the old behavior, usually:\n",
      "    np.array(value).astype(dtype)`\n",
      "will give the desired result (the cast overflows).\n",
      "  np.array([127, 128, 129], dtype=np.int8)\n",
      "/tmp/ipykernel_77742/720755805.py:2: DeprecationWarning: NumPy will stop allowing conversion of out-of-bound Python integers to integer arrays.  The conversion of 129 to int8 will fail in the future.\n",
      "For the old behavior, usually:\n",
      "    np.array(value).astype(dtype)`\n",
      "will give the desired result (the cast overflows).\n",
      "  np.array([127, 128, 129], dtype=np.int8)\n"
     ]
    },
    {
     "data": {
      "text/plain": [
       "array([ 127, -128, -127], dtype=int8)"
      ]
     },
     "execution_count": 43,
     "metadata": {},
     "output_type": "execute_result"
    }
   ],
   "source": [
    "import numpy as np\n",
    "np.array([127, 128, 129], dtype=np.int8)\n",
    "# Error: OverflowError because the np.int8 data type cannot hold the values 128 and 129. "
   ]
  },
  {
   "cell_type": "code",
   "execution_count": 44,
   "id": "22566622",
   "metadata": {},
   "outputs": [
    {
     "data": {
      "text/plain": [
       "array([0, 1, 2, 3, 4, 5, 6, 7, 8, 9])"
      ]
     },
     "execution_count": 44,
     "metadata": {},
     "output_type": "execute_result"
    }
   ],
   "source": [
    "#ARRAY CREATION FUNCTIONS\n",
    "import numpy as np\n",
    "np.arange(10) #0 TO BEFORE 10, Step Value 1"
   ]
  },
  {
   "cell_type": "code",
   "execution_count": 45,
   "id": "76d333eb",
   "metadata": {},
   "outputs": [
    {
     "data": {
      "text/plain": [
       "array([2., 3., 4., 5., 6., 7., 8., 9.])"
      ]
     },
     "execution_count": 45,
     "metadata": {},
     "output_type": "execute_result"
    }
   ],
   "source": [
    "np.arange(2, 10, dtype=float) #2. to Before 10., step value 1."
   ]
  },
  {
   "cell_type": "code",
   "execution_count": 46,
   "id": "57633536",
   "metadata": {},
   "outputs": [
    {
     "data": {
      "text/plain": [
       "array([2. , 2.1, 2.2, 2.3, 2.4, 2.5, 2.6, 2.7, 2.8, 2.9])"
      ]
     },
     "execution_count": 46,
     "metadata": {},
     "output_type": "execute_result"
    }
   ],
   "source": [
    "np.arange(2, 3, 0.1) #2 to Before 3, step value 0.1."
   ]
  },
  {
   "cell_type": "code",
   "execution_count": 47,
   "id": "e15fe582",
   "metadata": {},
   "outputs": [
    {
     "data": {
      "text/plain": [
       "array([1. , 1.6, 2.2, 2.8, 3.4, 4. ])"
      ]
     },
     "execution_count": 47,
     "metadata": {},
     "output_type": "execute_result"
    }
   ],
   "source": [
    "#numpy.linspace will create arrays with a specified number of elements, and spaced equally between the specified beginning and end values. \n",
    "#For example:\n",
    "\n",
    "# np.linspace(start, stop, num)\n",
    "\n",
    "# Start: 1.0\n",
    "\n",
    "# Stop: 4.0\n",
    "\n",
    "# num: 6 (number of samples including both endpoints)\n",
    "\n",
    "# The interval is divided into 5 equal steps (because 6 points mean 5 intervals).\n",
    "np.linspace(1., 4., 6)"
   ]
  },
  {
   "cell_type": "code",
   "execution_count": 48,
   "id": "8884c605",
   "metadata": {},
   "outputs": [
    {
     "data": {
      "text/plain": [
       "array([[1., 0., 0.],\n",
       "       [0., 1., 0.],\n",
       "       [0., 0., 1.]])"
      ]
     },
     "execution_count": 48,
     "metadata": {},
     "output_type": "execute_result"
    }
   ],
   "source": [
    "#2D Array Creation functions \n",
    "#properties of special matrices represented as 2D arrays.\n",
    "np.eye(3) # Identity matrice of 3X3\n"
   ]
  },
  {
   "cell_type": "code",
   "execution_count": 50,
   "id": "cd4ba97f",
   "metadata": {},
   "outputs": [
    {
     "data": {
      "text/plain": [
       "array([[1., 0., 0., 0., 0.],\n",
       "       [0., 1., 0., 0., 0.],\n",
       "       [0., 0., 1., 0., 0.]])"
      ]
     },
     "execution_count": 50,
     "metadata": {},
     "output_type": "execute_result"
    }
   ],
   "source": [
    "np.eye(3, 5)   # Identity matrice of 3X"
   ]
  },
  {
   "cell_type": "code",
   "execution_count": 55,
   "id": "878dbf1a",
   "metadata": {},
   "outputs": [
    {
     "data": {
      "text/plain": [
       "array([[0., 0., 0., 0., 0.],\n",
       "       [0., 0., 0., 0., 0.],\n",
       "       [1., 0., 0., 0., 0.]])"
      ]
     },
     "execution_count": 55,
     "metadata": {},
     "output_type": "execute_result"
    }
   ],
   "source": [
    "np.eye(3, 5, k=-2) #optional k argument\n",
    "# When k is negative (e.g., k=-2), the diagonal shifts below the main diagonal\n",
    "# when k is positive (e.g., k=1), the diagonal shifts above the main diagonal. "
   ]
  },
  {
   "cell_type": "code",
   "execution_count": 56,
   "id": "fd3c70b4",
   "metadata": {},
   "outputs": [
    {
     "data": {
      "text/plain": [
       "array([[0., 0., 1., 0., 0.],\n",
       "       [0., 0., 0., 1., 0.],\n",
       "       [0., 0., 0., 0., 1.]])"
      ]
     },
     "execution_count": 56,
     "metadata": {},
     "output_type": "execute_result"
    }
   ],
   "source": [
    "np.eye(3, 5, k=2) # Positive k argument"
   ]
  },
  {
   "cell_type": "code",
   "execution_count": 57,
   "id": "72fbea8f",
   "metadata": {},
   "outputs": [
    {
     "data": {
      "text/plain": [
       "array([[1, 0, 0],\n",
       "       [0, 2, 0],\n",
       "       [0, 0, 3]])"
      ]
     },
     "execution_count": 57,
     "metadata": {},
     "output_type": "execute_result"
    }
   ],
   "source": [
    "# numpy.diag can define either a square 2D array with given values along the diagonal or if given a 2D array \n",
    "# returns a 1D array that is only the diagonal elements. \n",
    "np.diag([1, 2, 3])"
   ]
  },
  {
   "cell_type": "code",
   "execution_count": 60,
   "id": "71795df1",
   "metadata": {},
   "outputs": [
    {
     "data": {
      "text/plain": [
       "array([[0, 1, 0, 0],\n",
       "       [0, 0, 2, 0],\n",
       "       [0, 0, 0, 3],\n",
       "       [0, 0, 0, 0]])"
      ]
     },
     "execution_count": 60,
     "metadata": {},
     "output_type": "execute_result"
    }
   ],
   "source": [
    "# np.diag(v, k=1):\n",
    "# When v is a 1D array, np.diag creates a 2D square matrix with v placed along the k-th diagonal.\n",
    "# k=1 → the diagonal above the main (first superdiagonal).\n",
    "np.diag([1, 2, 3], 1)"
   ]
  },
  {
   "cell_type": "code",
   "execution_count": 61,
   "id": "0d5234c4",
   "metadata": {},
   "outputs": [
    {
     "data": {
      "text/plain": [
       "array([1, 4])"
      ]
     },
     "execution_count": 61,
     "metadata": {},
     "output_type": "execute_result"
    }
   ],
   "source": [
    "# To hold this upper diagonal, NumPy creates a (n + k) × (n + k) square matrix, where n is the length of the input array.\n",
    "# So for [1, 2, 3]: Length = 3, k = 1, Matrix shape = 4 × 4\n",
    "# Diagonal values are placed at positions: (0,1), (1,2), (2,3)\n",
    "a = np.array([[1, 2], [3, 4]])\n",
    "np.diag(a)"
   ]
  },
  {
   "cell_type": "code",
   "execution_count": null,
   "id": "a693a690",
   "metadata": {},
   "outputs": [],
   "source": []
  }
 ],
 "metadata": {
  "kernelspec": {
   "display_name": "Python 3 (ipykernel)",
   "language": "python",
   "name": "python3"
  },
  "language_info": {
   "codemirror_mode": {
    "name": "ipython",
    "version": 3
   },
   "file_extension": ".py",
   "mimetype": "text/x-python",
   "name": "python",
   "nbconvert_exporter": "python",
   "pygments_lexer": "ipython3",
   "version": "3.10.12"
  }
 },
 "nbformat": 4,
 "nbformat_minor": 5
}
