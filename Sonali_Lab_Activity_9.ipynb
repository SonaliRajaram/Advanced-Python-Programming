{
 "cells": [
  {
   "cell_type": "markdown",
   "id": "b9504f88-673f-4ee3-b57f-f3e89678e9cb",
   "metadata": {},
   "source": [
    "## LAB ACTIVITY 9\n",
    "## NAME : SONALI R; REG NO : 22MID0061; COURSE CODE: CSI3007; LAB : L27+L28;\n",
    "## DATE : 08/08/2025"
   ]
  },
  {
   "cell_type": "code",
   "execution_count": 2,
   "id": "de92320f-35a8-41e8-ba57-0b43471d8047",
   "metadata": {},
   "outputs": [],
   "source": [
    "# create a class (that do nothing)\n",
    "class Emp:\n",
    "    pass"
   ]
  },
  {
   "cell_type": "code",
   "execution_count": 3,
   "id": "cf14d65c-546f-4aa7-a1cb-e5fd94dcb6d1",
   "metadata": {},
   "outputs": [],
   "source": [
    "e1 = Emp() # create a object of a class"
   ]
  },
  {
   "cell_type": "code",
   "execution_count": 4,
   "id": "f656f65f-1d49-4405-92dc-dbc54fcc909a",
   "metadata": {},
   "outputs": [
    {
     "name": "stdout",
     "output_type": "stream",
     "text": [
      "<__main__.Emp object at 0x752cfcd4a300>\n"
     ]
    }
   ],
   "source": [
    "print(e1)  # printing the object of the class"
   ]
  },
  {
   "cell_type": "code",
   "execution_count": 5,
   "id": "d331790e-e784-4f97-9ead-f7e59f4f7618",
   "metadata": {},
   "outputs": [
    {
     "name": "stdout",
     "output_type": "stream",
     "text": [
      "<class '__main__.Emp'>\n"
     ]
    }
   ],
   "source": [
    "print(Emp)  # printing the Class type"
   ]
  },
  {
   "cell_type": "code",
   "execution_count": 6,
   "id": "7f56b3e4-4951-4da6-b066-3a9987fedbe9",
   "metadata": {},
   "outputs": [],
   "source": [
    "# Assingning attributes to the class\n",
    "e1.first_name = \"Sonali\"\n",
    "e1.last_name = \"Rajaram\""
   ]
  },
  {
   "cell_type": "code",
   "execution_count": 7,
   "id": "a28e08ad-8634-4b6f-9b78-9bcfd7e942ec",
   "metadata": {},
   "outputs": [
    {
     "name": "stdout",
     "output_type": "stream",
     "text": [
      "Sonali\n",
      "Rajaram\n"
     ]
    }
   ],
   "source": [
    "# Printing the attributes of the class\n",
    "print(e1.first_name)\n",
    "print(e1.last_name)"
   ]
  },
  {
   "cell_type": "code",
   "execution_count": 24,
   "id": "3cb5eed1-6b0e-4431-95c5-d81ce8664d7e",
   "metadata": {},
   "outputs": [],
   "source": [
    "# create a class (that contains attributes and methods)\n",
    "class Employee:\n",
    "    def __init__(self, first_name, last_name):          # first_name, last_name and email are calles as instance variables (attributes)\n",
    "        self.first_name = first_name\n",
    "        self.last_name = last_name\n",
    "        self.email = f\"{self.first_name}1@gmail.com\"\n",
    "    def fullname(self):\n",
    "        return f\"{self.first_name} {self.last_name}\"     # printing the full name of the employee"
   ]
  },
  {
   "cell_type": "code",
   "execution_count": 25,
   "id": "cf580faf-8179-44e3-bf64-69ee1e55833e",
   "metadata": {},
   "outputs": [],
   "source": [
    "emp1 = Employee(\"Kamesh\",\"Rajaram\") # create a object of a class"
   ]
  },
  {
   "cell_type": "code",
   "execution_count": 26,
   "id": "7bc4a702-ad69-434e-9679-8b5864bb7b5e",
   "metadata": {},
   "outputs": [
    {
     "name": "stdout",
     "output_type": "stream",
     "text": [
      "Kamesh\n",
      "Rajaram\n"
     ]
    }
   ],
   "source": [
    "# Printing the attribute of the class\n",
    "print(emp1.first_name)\n",
    "print(emp1.last_name)    # first_name and last_name are attributes initialized from parameters passed directly to the __init__ method."
   ]
  },
  {
   "cell_type": "code",
   "execution_count": 27,
   "id": "3f8f4001-ce01-40aa-98c8-c984e5cd9ac6",
   "metadata": {},
   "outputs": [
    {
     "name": "stdout",
     "output_type": "stream",
     "text": [
      "Kamesh1@gmail.com\n"
     ]
    }
   ],
   "source": [
    "print(emp1.email) # email is an attribute that is generated internally within the __init__ method using other attributes."
   ]
  },
  {
   "cell_type": "code",
   "execution_count": 28,
   "id": "804e440e-0fbf-4942-a736-00d1853d36a6",
   "metadata": {},
   "outputs": [
    {
     "name": "stdout",
     "output_type": "stream",
     "text": [
      "Kamesh Rajaram\n"
     ]
    }
   ],
   "source": [
    "print(emp1.fullname()) # accessing the method (member function) of a class"
   ]
  },
  {
   "cell_type": "code",
   "execution_count": 48,
   "id": "ab4082ab-390f-46bc-aaab-20dfc886b880",
   "metadata": {},
   "outputs": [
    {
     "name": "stdout",
     "output_type": "stream",
     "text": [
      "<bound method Employee.fullname of <__main__.Employee object at 0x752cfc9b8b60>>\n"
     ]
    }
   ],
   "source": [
    "print(emp1.fullname)  # printing a representation of the method object itself.\n",
    "# bound method: This tells you that fullname is a method that is linked, or \"bound,\" to a specific instance of the Employee class (emp1)."
   ]
  },
  {
   "cell_type": "code",
   "execution_count": 43,
   "id": "8dc7fd41-194d-4276-99c8-3aa954125f54",
   "metadata": {},
   "outputs": [],
   "source": [
    "class Employee:\n",
    "    # Class variable to track the total number of employees\n",
    "    num_of_employees = 0\n",
    "\n",
    "    def __init__(self, first_name, last_name, pay):\n",
    "        self.first_name = first_name\n",
    "        self.last_name = last_name\n",
    "        self.pay = pay\n",
    "        self.email = f\"{first_name}.{last_name}@company.com\"\n",
    "\n",
    "        # Increment the employee count every time a new employee is created\n",
    "        Employee.num_of_employees += 1\n",
    "\n",
    "    def fullname(self):\n",
    "        return f\"{self.first_name} {self.last_name}\"\n"
   ]
  },
  {
   "cell_type": "code",
   "execution_count": 44,
   "id": "265092d6-b7e2-4043-b68a-05629d0e0b97",
   "metadata": {},
   "outputs": [
    {
     "name": "stdout",
     "output_type": "stream",
     "text": [
      "Initial employee count: 0\n"
     ]
    }
   ],
   "source": [
    "# object creation and accessing the members and member functions of the class\n",
    "print(f\"Initial employee count: {Employee.num_of_employees}\")  # Accessing the class variable\n",
    "\n",
    "emp_1 = Employee('Elon', 'Musk', 50000)\n",
    "emp_2 = Employee('Donald', 'Trump', 60000)"
   ]
  },
  {
   "cell_type": "code",
   "execution_count": 45,
   "id": "c233856b-409a-44b6-bfa8-48641fa456dd",
   "metadata": {},
   "outputs": [
    {
     "name": "stdout",
     "output_type": "stream",
     "text": [
      "Current employee count: 2\n"
     ]
    }
   ],
   "source": [
    "# Accessing the class variable\n",
    "print(f\"Current employee count: {Employee.num_of_employees}\")"
   ]
  },
  {
   "cell_type": "code",
   "execution_count": 46,
   "id": "d4e9f0b2-9f17-4805-981a-095cc9fffc9f",
   "metadata": {},
   "outputs": [
    {
     "name": "stdout",
     "output_type": "stream",
     "text": [
      "Elon Musk\n",
      "Donald Trump\n"
     ]
    }
   ],
   "source": [
    "# printing the name of the employees\n",
    "print(emp_1.fullname())\n",
    "print(emp_2.fullname())"
   ]
  },
  {
   "cell_type": "code",
   "execution_count": null,
   "id": "37adb732-c15b-4d5c-b90a-3b947d8f33d1",
   "metadata": {},
   "outputs": [],
   "source": []
  }
 ],
 "metadata": {
  "kernelspec": {
   "display_name": "Python 3 (ipykernel)",
   "language": "python",
   "name": "python3"
  },
  "language_info": {
   "codemirror_mode": {
    "name": "ipython",
    "version": 3
   },
   "file_extension": ".py",
   "mimetype": "text/x-python",
   "name": "python",
   "nbconvert_exporter": "python",
   "pygments_lexer": "ipython3",
   "version": "3.12.4"
  }
 },
 "nbformat": 4,
 "nbformat_minor": 5
}
