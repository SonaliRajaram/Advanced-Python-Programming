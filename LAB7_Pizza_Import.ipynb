{
 "cells": [
  {
   "cell_type": "markdown",
   "id": "89cc71ac-8119-4590-afe2-ffee2554dafc",
   "metadata": {},
   "source": [
    "## 16. Storing your functions in modules (import as .ipynb)"
   ]
  },
  {
   "cell_type": "code",
   "execution_count": 1,
   "id": "0713b13f-8e55-4fbc-b02d-47494d0a66f8",
   "metadata": {},
   "outputs": [
    {
     "name": "stdout",
     "output_type": "stream",
     "text": [
      "\n",
      " Making a 16-inch pizza with the following toppings\n",
      "- pepperoni\n"
     ]
    }
   ],
   "source": [
    "from ipynb.fs.full.pizza1 import make_pizza\n",
    "make_pizza(16,\"pepperoni\")"
   ]
  },
  {
   "cell_type": "code",
   "execution_count": null,
   "id": "3246f2b3-a19d-4b32-b59f-250bac3b088e",
   "metadata": {},
   "outputs": [],
   "source": []
  }
 ],
 "metadata": {
  "kernelspec": {
   "display_name": "Python 3 (ipykernel)",
   "language": "python",
   "name": "python3"
  },
  "language_info": {
   "codemirror_mode": {
    "name": "ipython",
    "version": 3
   },
   "file_extension": ".py",
   "mimetype": "text/x-python",
   "name": "python",
   "nbconvert_exporter": "python",
   "pygments_lexer": "ipython3",
   "version": "3.12.4"
  }
 },
 "nbformat": 4,
 "nbformat_minor": 5
}
