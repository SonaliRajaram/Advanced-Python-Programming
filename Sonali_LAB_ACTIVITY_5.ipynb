{
 "cells": [
  {
   "cell_type": "markdown",
   "id": "518978b2-8a6a-4ae6-a189-36e46f51b9c8",
   "metadata": {},
   "source": [
    "## LAB ACTIVITY 5"
   ]
  },
  {
   "cell_type": "markdown",
   "id": "4b20fe67-070a-4940-a6fc-db67ccfda2c9",
   "metadata": {},
   "source": [
    "## Slicing a List"
   ]
  },
  {
   "cell_type": "code",
   "execution_count": 58,
   "id": "a5fd1d11-fdee-49ea-b9cd-4595d1576393",
   "metadata": {},
   "outputs": [],
   "source": [
    "L = [1,2,3,4,5,6,7]  #Original List"
   ]
  },
  {
   "cell_type": "markdown",
   "id": "91e20367-1f92-4e59-aa0e-17d91efec9e4",
   "metadata": {},
   "source": [
    "## OFF-BY-ONE Behavior"
   ]
  },
  {
   "cell_type": "code",
   "execution_count": 9,
   "id": "e6609c98-4844-4f0f-8262-92cbcfbedf45",
   "metadata": {},
   "outputs": [
    {
     "data": {
      "text/plain": [
       "[3, 4, 5, 6, 7]"
      ]
     },
     "execution_count": 9,
     "metadata": {},
     "output_type": "execute_result"
    }
   ],
   "source": [
    "# Printing from third to last elements of a list\n",
    "L[2:]  "
   ]
  },
  {
   "cell_type": "code",
   "execution_count": 11,
   "id": "88cb7648-d7c0-4031-b198-bb5df80a75a3",
   "metadata": {},
   "outputs": [
    {
     "data": {
      "text/plain": [
       "[1, 2]"
      ]
     },
     "execution_count": 11,
     "metadata": {},
     "output_type": "execute_result"
    }
   ],
   "source": [
    "# Printing first two elements of a list\n",
    "L[:2]"
   ]
  },
  {
   "cell_type": "code",
   "execution_count": 14,
   "id": "a920d4be-23ba-400f-8384-7b0e691596d0",
   "metadata": {},
   "outputs": [
    {
     "data": {
      "text/plain": [
       "[6, 7]"
      ]
     },
     "execution_count": 14,
     "metadata": {},
     "output_type": "execute_result"
    }
   ],
   "source": [
    "# Printing the last two elements\n",
    "L[-2:]"
   ]
  },
  {
   "cell_type": "code",
   "execution_count": 15,
   "id": "1812373c-3512-430f-840f-6a27cda82852",
   "metadata": {},
   "outputs": [
    {
     "data": {
      "text/plain": [
       "[7, 6]"
      ]
     },
     "execution_count": 15,
     "metadata": {},
     "output_type": "execute_result"
    }
   ],
   "source": [
    "# Printing from last elements (last two elements)\n",
    "L[-1:-3:-1]"
   ]
  },
  {
   "cell_type": "code",
   "execution_count": 16,
   "id": "cdaded69-c37c-4d80-8318-cd72f21f22e8",
   "metadata": {},
   "outputs": [
    {
     "data": {
      "text/plain": [
       "[7, 6, 5, 4, 3, 2, 1]"
      ]
     },
     "execution_count": 16,
     "metadata": {},
     "output_type": "execute_result"
    }
   ],
   "source": [
    "# Printing from last elements\n",
    "L[-1::-1]"
   ]
  },
  {
   "cell_type": "markdown",
   "id": "cf401b2b-f06f-4876-89f3-9417fd30b5eb",
   "metadata": {},
   "source": [
    "## Copying the List"
   ]
  },
  {
   "cell_type": "code",
   "execution_count": 64,
   "id": "897fb9c7-7ad9-4b84-8cdd-568313d1124e",
   "metadata": {},
   "outputs": [],
   "source": [
    "my_fav = ['cake','pizza','stew'] # Original List\n",
    "frd_fav1 = my_fav[:]   \n",
    "frd_fav2 = my_fav"
   ]
  },
  {
   "cell_type": "code",
   "execution_count": 65,
   "id": "5ab3a02b-aec5-4b6f-935d-9b657ef6b51b",
   "metadata": {},
   "outputs": [
    {
     "name": "stdout",
     "output_type": "stream",
     "text": [
      "['cake', 'pizza', 'stew']\n",
      "['cake', 'pizza', 'stew']\n",
      "['cake', 'pizza', 'stew']\n"
     ]
    }
   ],
   "source": [
    "print(my_fav)\n",
    "print(frd_fav1)  #Copy by Value\n",
    "print(frd_fav2)  #Copy by Reference"
   ]
  },
  {
   "cell_type": "code",
   "execution_count": 66,
   "id": "27036ffa-b244-498d-93db-f8d9b1d2af14",
   "metadata": {},
   "outputs": [],
   "source": [
    "my_fav.append('porridge')  # Add new element to original list"
   ]
  },
  {
   "cell_type": "code",
   "execution_count": 67,
   "id": "83e1abee-ea38-4bdd-8add-8a08d710dad6",
   "metadata": {},
   "outputs": [
    {
     "name": "stdout",
     "output_type": "stream",
     "text": [
      "['cake', 'pizza', 'stew', 'porridge']\n",
      "['cake', 'pizza', 'stew']\n",
      "['cake', 'pizza', 'stew', 'porridge']\n"
     ]
    }
   ],
   "source": [
    "print(my_fav)\n",
    "print(frd_fav1)  #Copy by Value\n",
    "print(frd_fav2)  #Copy by Reference"
   ]
  },
  {
   "cell_type": "code",
   "execution_count": 68,
   "id": "de23bda6-9fb9-46e9-a510-21ad1e878904",
   "metadata": {},
   "outputs": [
    {
     "name": "stdout",
     "output_type": "stream",
     "text": [
      "130787113415360\n",
      "130787113499776\n",
      "130787113415360\n"
     ]
    }
   ],
   "source": [
    "print(id(my_fav))    #Original list Address\n",
    "print(id(frd_fav1))  # Copy by Value list Address\n",
    "print(id(frd_fav2))  #Copy by Reference list Address"
   ]
  },
  {
   "cell_type": "code",
   "execution_count": 69,
   "id": "9a79d4c9-1b50-4b12-9f55-29576633f9d7",
   "metadata": {},
   "outputs": [],
   "source": [
    "frd_copy = my_fav.copy()   # Inbuilt Copy function"
   ]
  },
  {
   "cell_type": "code",
   "execution_count": 70,
   "id": "63846dca-ad86-442a-ba23-a405fe4160ea",
   "metadata": {},
   "outputs": [],
   "source": [
    "my_fav.append('ice-cream')  # Add new element to original list"
   ]
  },
  {
   "cell_type": "code",
   "execution_count": 71,
   "id": "fdc3f487-70aa-400f-8ecb-fde26cbd30bd",
   "metadata": {},
   "outputs": [
    {
     "name": "stdout",
     "output_type": "stream",
     "text": [
      "['cake', 'pizza', 'stew', 'porridge', 'ice-cream']\n",
      "['cake', 'pizza', 'stew', 'porridge']\n"
     ]
    }
   ],
   "source": [
    "print(my_fav)\n",
    "print(frd_copy)    # Copy by Value"
   ]
  },
  {
   "cell_type": "markdown",
   "id": "92daeb9d-43cb-46b6-b923-41ff01267d8a",
   "metadata": {},
   "source": [
    "## Looping through a Slice"
   ]
  },
  {
   "cell_type": "code",
   "execution_count": 72,
   "id": "b41596cc-3fff-4550-abc8-6907e4b330be",
   "metadata": {},
   "outputs": [
    {
     "name": "stdout",
     "output_type": "stream",
     "text": [
      "1\n",
      "2\n",
      "3\n",
      "4\n",
      "5\n",
      "6\n",
      "7\n"
     ]
    }
   ],
   "source": [
    "# Looping through a Slice\n",
    "for item in L[:8]:\n",
    "    print(item)"
   ]
  },
  {
   "cell_type": "code",
   "execution_count": 73,
   "id": "1f93a47f-9929-4ba9-9bec-18a4a617548f",
   "metadata": {},
   "outputs": [
    {
     "name": "stdout",
     "output_type": "stream",
     "text": [
      "Cake\n",
      "Pizza\n",
      "Stew\n",
      "Porridge\n",
      "Ice-Cream\n"
     ]
    }
   ],
   "source": [
    "# Looping through a Slice\n",
    "for item in my_fav[:6]:\n",
    "    print(item.title())"
   ]
  },
  {
   "cell_type": "markdown",
   "id": "bb016b39-7bce-4ca2-a209-1bd52e7e8ea2",
   "metadata": {},
   "source": [
    "## Understanding a Tuple"
   ]
  },
  {
   "cell_type": "code",
   "execution_count": 74,
   "id": "ec80e310-19dd-47ca-8d6f-8d47e8fac2ef",
   "metadata": {},
   "outputs": [
    {
     "data": {
      "text/plain": [
       "100"
      ]
     },
     "execution_count": 74,
     "metadata": {},
     "output_type": "execute_result"
    }
   ],
   "source": [
    "t = (50,100) # Original Tuple\n",
    "t[1]"
   ]
  },
  {
   "cell_type": "code",
   "execution_count": 76,
   "id": "b7cc7481-5661-45e1-a8a2-1089bce34976",
   "metadata": {},
   "outputs": [
    {
     "ename": "TypeError",
     "evalue": "'tuple' object does not support item assignment",
     "output_type": "error",
     "traceback": [
      "\u001b[0;31m---------------------------------------------------------------------------\u001b[0m",
      "\u001b[0;31mTypeError\u001b[0m                                 Traceback (most recent call last)",
      "Cell \u001b[0;32mIn[76], line 1\u001b[0m\n\u001b[0;32m----> 1\u001b[0m t[\u001b[38;5;241m0\u001b[39m] \u001b[38;5;241m=\u001b[39m \u001b[38;5;241m-\u001b[39m\u001b[38;5;241m20\u001b[39m\n",
      "\u001b[0;31mTypeError\u001b[0m: 'tuple' object does not support item assignment"
     ]
    }
   ],
   "source": [
    "t[0] = -20 #object does not support item assignment"
   ]
  },
  {
   "cell_type": "code",
   "execution_count": 78,
   "id": "afa41e43-d02a-4da8-8455-8b119d07bf6a",
   "metadata": {},
   "outputs": [
    {
     "name": "stdout",
     "output_type": "stream",
     "text": [
      "(1, 2, 3, 4, 5, 6, 7)\n"
     ]
    }
   ],
   "source": [
    "tup1 = (1,2,3,4,5,6,7) #Original tuple\n",
    "print(tup1)"
   ]
  },
  {
   "cell_type": "code",
   "execution_count": 79,
   "id": "665dd6b7-aee6-461d-b5ca-1247d4848fd5",
   "metadata": {},
   "outputs": [
    {
     "name": "stdout",
     "output_type": "stream",
     "text": [
      "1\n",
      "2\n",
      "3\n",
      "4\n",
      "5\n",
      "6\n",
      "7\n"
     ]
    }
   ],
   "source": [
    "# Looping over a tuple\n",
    "for i in tup1:\n",
    "    print(i)"
   ]
  },
  {
   "cell_type": "code",
   "execution_count": 80,
   "id": "0826e006-f128-45c3-a7de-b35431d27c76",
   "metadata": {},
   "outputs": [
    {
     "name": "stdout",
     "output_type": "stream",
     "text": [
      "1\n",
      "2\n",
      "3\n",
      "4\n",
      "5\n",
      "6\n",
      "7\n"
     ]
    }
   ],
   "source": [
    "# Looping through a Slice (in tuple)\n",
    "for i in tup1[0:]:\n",
    "    print(i)"
   ]
  },
  {
   "cell_type": "code",
   "execution_count": 81,
   "id": "d1d09fcf-9c66-4e4b-93ad-7ea6f3a4d738",
   "metadata": {},
   "outputs": [
    {
     "name": "stdout",
     "output_type": "stream",
     "text": [
      "(7, 6, 5, 4, 3, 2, 1)\n"
     ]
    }
   ],
   "source": [
    "tup1 = (7,6,5,4,3,2,1) #Complete assignment (no error)\n",
    "print(tup1)"
   ]
  },
  {
   "cell_type": "markdown",
   "id": "7cab9c8f-70f9-4c70-8ad8-177324a92bb9",
   "metadata": {},
   "source": [
    "## Dictionary"
   ]
  },
  {
   "cell_type": "code",
   "execution_count": 83,
   "id": "4bd2ef77-58c1-4cab-9cd2-091b08d1e1cb",
   "metadata": {},
   "outputs": [
    {
     "name": "stdout",
     "output_type": "stream",
     "text": [
      "{'reg_no': '22MID0061', 'program': 'python', 'cgpa': 9.39, 'Attendace': 100}\n"
     ]
    }
   ],
   "source": [
    "student_1 = {'reg_no':'22MID0061', 'program':'python', 'cgpa':9.39, 'Attendace':100} # Original dict\n",
    "print(student_1)"
   ]
  },
  {
   "cell_type": "code",
   "execution_count": null,
   "id": "c3b2cb84-b717-4ae4-a397-aad6ceb7b511",
   "metadata": {},
   "outputs": [],
   "source": []
  }
 ],
 "metadata": {
  "kernelspec": {
   "display_name": "Python 3 (ipykernel)",
   "language": "python",
   "name": "python3"
  },
  "language_info": {
   "codemirror_mode": {
    "name": "ipython",
    "version": 3
   },
   "file_extension": ".py",
   "mimetype": "text/x-python",
   "name": "python",
   "nbconvert_exporter": "python",
   "pygments_lexer": "ipython3",
   "version": "3.12.4"
  }
 },
 "nbformat": 4,
 "nbformat_minor": 5
}
