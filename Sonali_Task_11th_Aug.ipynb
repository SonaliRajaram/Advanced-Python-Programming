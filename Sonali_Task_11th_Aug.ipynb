{
 "cells": [
  {
   "cell_type": "markdown",
   "id": "79036902-3f2c-4a25-8dd2-e109e9cfbc80",
   "metadata": {},
   "source": [
    "## TASK \n",
    "## NAME : SONALI R ; REG NO : 22MID0061 ; COURSE CODE : CSI3007 ; DATE : 11/08/2025"
   ]
  },
  {
   "cell_type": "code",
   "execution_count": 12,
   "id": "b549b4f6-3e53-4ea4-9c55-71a584e8d490",
   "metadata": {},
   "outputs": [],
   "source": [
    "class Employee:\n",
    "    # Class variable to count number of objects created\n",
    "    count = 0\n",
    "\n",
    "    def __init__(self, first_name, last_name):\n",
    "        # Handle missing values by replacing with \"Unknown\"\n",
    "        self.first_name = first_name if first_name.strip() else \"Unknown\"\n",
    "        self.last_name = last_name if last_name.strip() else \"Unknown\"\n",
    "\n",
    "        # Increment count whenever a new Employee object is created\n",
    "        Employee.count += 1\n",
    "\n",
    "    def display(self):\n",
    "        print(f\"Employee: {self.first_name} {self.last_name}\")\n",
    "\n",
    "    @classmethod\n",
    "    def read_from_file(cls, filename):\n",
    "        employees = []\n",
    "        # Read file with UTF-8 encoding for multilingual support\n",
    "        with open(filename, \"r\", encoding=\"utf-8\") as file:\n",
    "            for line in file:\n",
    "                first, last = (line.strip().split(\",\") + [\"\"])[:2]  # Ensure 2 fields\n",
    "                employees.append(cls(first, last))\n",
    "        return employees\n"
   ]
  },
  {
   "cell_type": "code",
   "execution_count": 14,
   "id": "9738c629-302b-40a0-8c07-5b1ec3ecb143",
   "metadata": {},
   "outputs": [
    {
     "name": "stdout",
     "output_type": "stream",
     "text": [
      "All Employees:\n",
      "Employee: Sonali Rajaram\n",
      "Employee: Kamesh Rajaram\n",
      "Employee: 王 张\n",
      "Employee: John Doe\n",
      "Employee: Priya Sharma\n",
      "Employee: 张 伟\n",
      "Employee: Unknown Anderson\n",
      "Employee: María Unknown\n",
      "Employee: Ali حسین\n",
      "Employee: 陈 杨\n",
      "Employee: 愛 あい\n",
      "Employee: 亜美  あみ\n",
      "\n",
      "Total Employees Created: 12\n"
     ]
    }
   ],
   "source": [
    "# read_from_file is a class method, Python automatically passes the class (Employee) as the first argument (cls).\n",
    "# Here, cls is Employee, cls(first, last) is the same as Employee(first, last). Thus an object creation -> so __init__ is called for each record in the file.\n",
    "# Every time __init__ runs, it sets first_name, last_name, and increments Employee.count.\n",
    "\n",
    "emp_list = Employee.read_from_file(\"employees.txt\")    # Accessing class method and reading the multilingual employee names from the file\n",
    "\n",
    "print(\"All Employees:\")\n",
    "for emp in emp_list:     # Employee list containing employee names\n",
    "    emp.display()\n",
    "print(f\"\\nTotal Employees Created: {Employee.count}\")   # class variable that displays number of objects created"
   ]
  },
  {
   "cell_type": "code",
   "execution_count": null,
   "id": "27583e0f-9008-4485-896a-56eb4a272848",
   "metadata": {},
   "outputs": [],
   "source": []
  }
 ],
 "metadata": {
  "kernelspec": {
   "display_name": "Python 3 (ipykernel)",
   "language": "python",
   "name": "python3"
  },
  "language_info": {
   "codemirror_mode": {
    "name": "ipython",
    "version": 3
   },
   "file_extension": ".py",
   "mimetype": "text/x-python",
   "name": "python",
   "nbconvert_exporter": "python",
   "pygments_lexer": "ipython3",
   "version": "3.12.7"
  }
 },
 "nbformat": 4,
 "nbformat_minor": 5
}
