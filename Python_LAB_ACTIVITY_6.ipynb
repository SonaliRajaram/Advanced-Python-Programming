{
 "cells": [
  {
   "cell_type": "markdown",
   "id": "18dc0521-472d-4d02-bbf7-39cb78842dee",
   "metadata": {},
   "source": [
    "## LAB ACTIVITY 6"
   ]
  },
  {
   "cell_type": "markdown",
   "id": "ca4e431a-b3a8-4ec8-ac20-d64e98f0121e",
   "metadata": {},
   "source": [
    "## Unpacking Sequence"
   ]
  },
  {
   "cell_type": "code",
   "execution_count": 4,
   "id": "c1159ef9-3552-4957-9c21-aca658888dd3",
   "metadata": {},
   "outputs": [],
   "source": [
    "ODDS = [1,3,5,7]  # Original list\n",
    "a,b,c,d = ODDS # Unpacking the List"
   ]
  },
  {
   "cell_type": "code",
   "execution_count": 6,
   "id": "0ba2092c-c083-47ca-ad65-5b5727dc3f00",
   "metadata": {},
   "outputs": [
    {
     "name": "stdout",
     "output_type": "stream",
     "text": [
      "1\n",
      "3\n",
      "5\n",
      "7\n"
     ]
    }
   ],
   "source": [
    "print(a)    # printing the unpacked list elements\n",
    "print(b)\n",
    "print(c)\n",
    "print(d)"
   ]
  },
  {
   "cell_type": "code",
   "execution_count": 8,
   "id": "2daa055a-a3e9-433a-8297-034f0421f101",
   "metadata": {},
   "outputs": [],
   "source": [
    "a,b,*c = ODDS #Unpacking the list (Remaining elements will get stored in the variable c)"
   ]
  },
  {
   "cell_type": "code",
   "execution_count": 10,
   "id": "0ce8f93e-48a2-4498-9701-16eafc6ffcc4",
   "metadata": {},
   "outputs": [
    {
     "name": "stdout",
     "output_type": "stream",
     "text": [
      "1\n",
      "3\n",
      "[5, 7]\n"
     ]
    }
   ],
   "source": [
    "print(a)    # printing the unpacked list elements\n",
    "print(b)\n",
    "print(c)"
   ]
  },
  {
   "cell_type": "code",
   "execution_count": 12,
   "id": "bddd68da-b50f-4711-9904-c04fea32fe9a",
   "metadata": {},
   "outputs": [],
   "source": [
    "a,*b,c = ODDS # Unpacking the List"
   ]
  },
  {
   "cell_type": "code",
   "execution_count": 14,
   "id": "b56efb67-58ee-4ab3-a1ec-99d56714301f",
   "metadata": {},
   "outputs": [
    {
     "name": "stdout",
     "output_type": "stream",
     "text": [
      "1\n",
      "[3, 5]\n",
      "7\n"
     ]
    }
   ],
   "source": [
    "print(a)    # printing the unpacked list elements\n",
    "print(b)\n",
    "print(c)"
   ]
  },
  {
   "cell_type": "code",
   "execution_count": 16,
   "id": "c866420f-7558-4e74-a130-0413b09914f8",
   "metadata": {},
   "outputs": [
    {
     "ename": "TypeError",
     "evalue": "a() takes 3 positional arguments but 4 were given",
     "output_type": "error",
     "traceback": [
      "\u001b[1;31m---------------------------------------------------------------------------\u001b[0m",
      "\u001b[1;31mTypeError\u001b[0m                                 Traceback (most recent call last)",
      "Cell \u001b[1;32mIn[16], line 3\u001b[0m\n\u001b[0;32m      1\u001b[0m \u001b[38;5;28;01mdef\u001b[39;00m\u001b[38;5;250m \u001b[39m\u001b[38;5;21ma\u001b[39m(x,y,z):       \u001b[38;5;66;03m# Unpacking the list\u001b[39;00m\n\u001b[0;32m      2\u001b[0m     \u001b[38;5;28;01mreturn\u001b[39;00m (x\u001b[38;5;241m+\u001b[39my\u001b[38;5;241m+\u001b[39mz)\n\u001b[1;32m----> 3\u001b[0m \u001b[38;5;28mprint\u001b[39m(\u001b[43ma\u001b[49m\u001b[43m(\u001b[49m\u001b[38;5;241;43m*\u001b[39;49m\u001b[43mODDS\u001b[49m\u001b[43m)\u001b[49m)     \u001b[38;5;66;03m# ERROR: It requires exactly 4 elements to be unpacked\u001b[39;00m\n",
      "\u001b[1;31mTypeError\u001b[0m: a() takes 3 positional arguments but 4 were given"
     ]
    }
   ],
   "source": [
    "def a(x,y,z):       # Unpacking the list\n",
    "    return (x+y+z)\n",
    "print(a(*ODDS))     # ERROR: It requires exactly 4 elements to be unpacked"
   ]
  },
  {
   "cell_type": "code",
   "execution_count": 18,
   "id": "3443654a-230c-4630-9258-720d23a6abe5",
   "metadata": {},
   "outputs": [
    {
     "name": "stdout",
     "output_type": "stream",
     "text": [
      "16\n"
     ]
    }
   ],
   "source": [
    "def a(x,y,z,p):       # Unpacking the list\n",
    "    return (x+y+z+p)\n",
    "print(a(*ODDS)) "
   ]
  },
  {
   "cell_type": "code",
   "execution_count": 22,
   "id": "2adeaa0d-dd57-4fb4-a60b-ff72e69541c1",
   "metadata": {},
   "outputs": [
    {
     "name": "stdout",
     "output_type": "stream",
     "text": [
      "Hello, Sonali\n",
      "Hello, Kaushik\n",
      "Hello, Hari\n",
      "Hello, Dharshini\n"
     ]
    }
   ],
   "source": [
    "def say_hi(*names):    # Unpacking the collection of string\n",
    "    for n in names:\n",
    "        print(f\"Hello, {n}\")\n",
    "say_hi(\"Sonali\",\"Kaushik\",\"Hari\",\"Dharshini\")"
   ]
  },
  {
   "cell_type": "code",
   "execution_count": 27,
   "id": "677d328a-847b-489e-a9b9-ab04e393a7fd",
   "metadata": {},
   "outputs": [
    {
     "name": "stdout",
     "output_type": "stream",
     "text": [
      "Code : Python\n",
      "School : SCOPE\n",
      "Course : CSI4007\n"
     ]
    }
   ],
   "source": [
    "# Unpacking the dictionary\n",
    "def show_info(**info):\n",
    "    for k,v in info.items():\n",
    "        print(f\"{k} : {v}\")\n",
    "\n",
    "data = {\"Code\":\"Python\",\n",
    "        \"School\":\"SCOPE\",\n",
    "        \"Course\":\"CSI4007\"\n",
    "       }\n",
    "show_info(**data)"
   ]
  },
  {
   "cell_type": "markdown",
   "id": "403eb229-1167-452b-a259-4be05e1bad81",
   "metadata": {},
   "source": [
    "## Create a Empty Dictionary and insert keys and values"
   ]
  },
  {
   "cell_type": "code",
   "execution_count": 25,
   "id": "b9becdd3-75fe-475c-9469-26fd41658f39",
   "metadata": {},
   "outputs": [],
   "source": [
    "dict1 = dict()   # Empty dict"
   ]
  },
  {
   "cell_type": "code",
   "execution_count": 31,
   "id": "073be5c3-c1b8-40cd-a532-574d9299d6bb",
   "metadata": {},
   "outputs": [],
   "source": [
    "dict1[\"Name\"] = \"Sonali\"  # Inserting keys and values to dict\n",
    "dict1[\"School\"] = \"SCOPE\""
   ]
  },
  {
   "cell_type": "code",
   "execution_count": 33,
   "id": "ec38a842-07e0-4d09-aab9-24385e5ce863",
   "metadata": {},
   "outputs": [
    {
     "name": "stdout",
     "output_type": "stream",
     "text": [
      "{'Name': 'Sonali', 'School': 'SCOPE'}\n"
     ]
    }
   ],
   "source": [
    "print(dict1) # Display dict"
   ]
  },
  {
   "cell_type": "code",
   "execution_count": 35,
   "id": "48142a10-6086-4f61-bea4-7422a6030e14",
   "metadata": {},
   "outputs": [],
   "source": [
    "dict2 = {}     # Empty dict"
   ]
  },
  {
   "cell_type": "code",
   "execution_count": 37,
   "id": "b86a8d4e-330a-4559-9af8-a8bf26df2d05",
   "metadata": {},
   "outputs": [],
   "source": [
    "dict2[\"Name\"] = \"Kamesh\"  # Inserting keys and values to dict\n",
    "dict2[\"School\"] = \"SCORE\""
   ]
  },
  {
   "cell_type": "code",
   "execution_count": 39,
   "id": "b1db4ba6-19a4-4241-86e0-1089db7e91e0",
   "metadata": {},
   "outputs": [
    {
     "name": "stdout",
     "output_type": "stream",
     "text": [
      "{'Name': 'Kamesh', 'School': 'SCORE'}\n"
     ]
    }
   ],
   "source": [
    "print(dict2) # Display dict"
   ]
  },
  {
   "cell_type": "code",
   "execution_count": null,
   "id": "849d2203-a25b-4143-98c1-f054df611af3",
   "metadata": {},
   "outputs": [],
   "source": []
  }
 ],
 "metadata": {
  "kernelspec": {
   "display_name": "Python 3 (ipykernel)",
   "language": "python",
   "name": "python3"
  },
  "language_info": {
   "codemirror_mode": {
    "name": "ipython",
    "version": 3
   },
   "file_extension": ".py",
   "mimetype": "text/x-python",
   "name": "python",
   "nbconvert_exporter": "python",
   "pygments_lexer": "ipython3",
   "version": "3.12.7"
  }
 },
 "nbformat": 4,
 "nbformat_minor": 5
}
